{
 "cells": [
  {
   "cell_type": "markdown",
   "metadata": {},
   "source": [
    "### Report to 11020PHYS401200-Computational-Physics"
   ]
  },
  {
   "cell_type": "markdown",
   "metadata": {},
   "source": [
    "### Part D : Contact Transfer Matrix in Y,X direction and do truncation by CYTNX "
   ]
  },
  {
   "cell_type": "markdown",
   "metadata": {},
   "source": [
    "* Author : Yen-Tung Lin\n",
    "* ID : 109022802"
   ]
  },
  {
   "cell_type": "markdown",
   "metadata": {},
   "source": [
    "### Reference\n",
    "* Complexity and Criticality, Kim Christensen"
   ]
  },
  {
   "cell_type": "markdown",
   "metadata": {},
   "source": [
    "### Model"
   ]
  },
  {
   "cell_type": "markdown",
   "metadata": {},
   "source": [
    "* Classical Ising Model in 2 D : E = J $\\sum_{<i,j>}S^{z}_{i}S^{z}_{j}$\n"
   ]
  },
  {
   "cell_type": "markdown",
   "metadata": {},
   "source": [
    "### To do"
   ]
  },
  {
   "cell_type": "markdown",
   "metadata": {},
   "source": [
    "* Contraction in X,Y and Trunction by two Methods\n",
    "* * Method 1 : Find isometry using SVD\n",
    "* * Method 2 : Find isometry by diagonalizing TT * TT.dagger (faster)"
   ]
  },
  {
   "cell_type": "markdown",
   "metadata": {},
   "source": [
    "### To Calculate"
   ]
  },
  {
   "cell_type": "markdown",
   "metadata": {},
   "source": [
    "* Transfer Matrix\n",
    "* Eigenvalues of Transfer Matrix\n",
    "* Corrlation length $\\xi$=$\\frac{1}{\\log(\\lambda_{0}/\\lambda_{1})}$\n",
    "* Determine the intersection of $\\xi$ and do extrapolate to compare with exact Tc = $\\frac{2}{\\log(1+\\sqrt(2)))}$\n",
    "* Find the errors by comparing with exact contraction"
   ]
  },
  {
   "cell_type": "markdown",
   "metadata": {},
   "source": [
    "### Import"
   ]
  },
  {
   "cell_type": "code",
   "execution_count": 1,
   "metadata": {},
   "outputs": [],
   "source": [
    "import os\n",
    "import math\n",
    "import random\n",
    "import cytnx as cy\n",
    "from scipy.optimize import curve_fit\n",
    "import numpy as np\n",
    "import numpy.linalg as la\n",
    "import matplotlib.pyplot as plt"
   ]
  },
  {
   "cell_type": "code",
   "execution_count": 2,
   "metadata": {},
   "outputs": [],
   "source": [
    "## Basic parameter\n",
    "cnames = {                        \n",
    "'blueviolet':           '#8A2BE2',\n",
    "'brown':                '#A52A2A',\n",
    "'burlywood':            '#DEB887',\n",
    "'cadetblue':            '#5F9EA0',\n",
    "'chocolate':            '#D2691E',\n",
    "'crimson':              '#DC143C',\n",
    "'cyan':                 '#00FFFF',\n",
    "'darkblue':             '#00008B',\n",
    "'darkcyan':             '#008B8B',\n",
    "'darkolivegreen':       '#556B2F',\n",
    "'darkorange':           '#FF8C00',\n",
    "'darksalmon':           '#E9967A',\n",
    "'darkseagreen':         '#8FBC8F',\n",
    "'darkslateblue':        '#483D8B',\n",
    "'darkslategray':        '#2F4F4F',\n",
    "'darkturquoise':        '#00CED1',\n",
    "'darkviolet':           '#9400D3',\n",
    "'deeppink':             '#FF1493',\n",
    "'deepskyblue':          '#00BFFF',\n",
    "'dimgray':              '#696969',\n",
    "'dodgerblue':           '#1E90FF',\n",
    "'firebrick':            '#B22222',\n",
    "'floralwhite':          '#FFFAF0',\n",
    "'forestgreen':          '#228B22',\n",
    "'fuchsia':              '#FF00FF',\n",
    "'gainsboro':            '#DCDCDC',\n",
    "'ghostwhite':           '#F8F8FF',\n",
    "'gold':                 '#FFD700',\n",
    "'greenyellow':          '#ADFF2F',\n",
    "'honeydew':             '#F0FFF0',\n",
    "'hotpink':              '#FF69B4',\n",
    "'indianred':            '#CD5C5C',\n",
    "'indigo':               '#4B0082',\n",
    "'ivory':                '#FFFFF0',\n",
    "'khaki':                '#F0E68C',\n",
    "'orangered':            '#FF4500',\n",
    "'orchid':               '#DA70D6'}\n",
    "carr = []\n",
    "for cmap in cnames.keys():                          ## color array\n",
    "    carr.append(cmap)\n",
    "marr = ['o-', 'x-', '^-', 's-', 'p-', '*-', 'h-']   ## marker array"
   ]
  },
  {
   "cell_type": "markdown",
   "metadata": {},
   "source": [
    "### Define function : Print Diagram and Element"
   ]
  },
  {
   "cell_type": "code",
   "execution_count": 3,
   "metadata": {},
   "outputs": [],
   "source": [
    "def ut_print(ut):\n",
    "    ut.print_diagram()\n",
    "    print(ut.get_block().numpy())"
   ]
  },
  {
   "cell_type": "markdown",
   "metadata": {},
   "source": [
    "### Define function : Xmerge and Ymerge function"
   ]
  },
  {
   "cell_type": "code",
   "execution_count": 4,
   "metadata": {},
   "outputs": [],
   "source": [
    "def Xmerge(TL,TR):\n",
    "    Xmerge = cy.Network(\"network/Xmerge.net\")\n",
    "    Xmerge.PutUniTensors(['TL','TR'], [TL,TR])\n",
    "\n",
    "    Uni_Tx = Xmerge.Launch()\n",
    "    Uni_Tx.combineBonds([0,4])\n",
    "    Uni_Tx.combineBonds([3,5])\n",
    "    return Uni_Tx\n",
    "\n",
    "def Ymerge(TU,TD):\n",
    "    Ymerge = cy.Network(\"network/Ymerge.net\")\n",
    "    Ymerge.PutUniTensors(['TU','TD'], [TU,TD])\n",
    "\n",
    "    Uni_Ty = Ymerge.Launch()\n",
    "    Uni_Ty.combineBonds([1,10])\n",
    "    Uni_Ty.combineBonds([2,11])\n",
    "    return Uni_Ty\n",
    "\n",
    "def T(t):\n",
    "    m = np.array([[np.sqrt(np.cosh(1/t)),np.sqrt(np.sinh(1/t))],\n",
    "                    [np.sqrt(np.cosh(1/t)),-np.sqrt(np.sinh(1/t))]])\n",
    "    m_transpose = np.copy(m.transpose())\n",
    "    CyT_M = cy.from_numpy(m)\n",
    "    Uni_M = cy.UniTensor(CyT_M, rowrank = 1)\n",
    "    # Uni_M.print_diagram()\n",
    "\n",
    "    CyT_M_transpose = cy.from_numpy(m_transpose)\n",
    "    Uni_M_transpose = cy.UniTensor(CyT_M_transpose, rowrank = 1)\n",
    "    # Uni_M_transpose.print_diagram()\n",
    "\n",
    "    Uni_M_up = Uni_M_transpose.clone()\n",
    "    Uni_M_up.set_name(\"Uni_M_up\")\n",
    "    # ut_print(Uni_M_up)\n",
    "\n",
    "    Uni_M_left = Uni_M_transpose.clone()\n",
    "    Uni_M_left.set_name(\"Uni_M_left\")\n",
    "    # ut_print(Uni_M_left)\n",
    "\n",
    "    Uni_M_right = Uni_M.clone()\n",
    "    Uni_M_right.set_name(\"Uni_M_right\")\n",
    "    # ut_print(Uni_M_right)\n",
    "\n",
    "    Uni_M_down = Uni_M.clone()\n",
    "    Uni_M_down.set_name(\"Uni_M_down\")\n",
    "    # ut_print(Uni_M_down)\n",
    "\n",
    "    delta = np.zeros((2,2,2,2))\n",
    "    delta[0,0,0,0] = delta[1,1,1,1] = 1\n",
    "\n",
    "    Delta = cy.from_numpy(delta)\n",
    "    UniDelta = cy.UniTensor(Delta, rowrank = 2)\n",
    "    UniDelta.set_labels([0,1,2,3])\n",
    "    UniDelta.set_name(\"UniDelta\")\n",
    "    # ut_print(UniDelta)\n",
    "\n",
    "    M_network = cy.Network(\"network/T.net\")\n",
    "    M_network.PutUniTensors(['mu','ml','mr','md','delta'], [Uni_M_up,Uni_M_left,Uni_M_right,Uni_M_down,UniDelta])\n",
    "    # print(M_network)\n",
    "    Uni_T=M_network.Launch()\n",
    "    Uni_T.set_name(\"Uni_T\")\n",
    "    # ut_print(Uni_T)\n",
    "\n",
    "    Uni_T_trace = Uni_T.clone().Trace(0, 3)\n",
    "    return Uni_T, Uni_T_trace\n",
    "\n",
    "def Identiy(L):\n",
    "    np_I = np.identity(2**L)\n",
    "    cy_I = cy.from_numpy(np_I)\n",
    "    uni_I = cy.UniTensor(cy_I,rowrank=1)\n",
    "    return uni_I"
   ]
  },
  {
   "cell_type": "markdown",
   "metadata": {},
   "source": [
    "### Define M and Contract them to Build T"
   ]
  },
  {
   "cell_type": "markdown",
   "metadata": {},
   "source": [
    "* $M = \\begin{pmatrix}\n",
    "     \\sqrt{\\cosh(\\beta J)} & \\sqrt{\\sinh(\\beta J)}\\\\\n",
    "     \\sqrt{\\cosh(\\beta J)} & -\\sqrt{\\sinh(\\beta J)}\\\\\n",
    "     \\end{pmatrix}$"
   ]
  },
  {
   "cell_type": "code",
   "execution_count": 5,
   "metadata": {},
   "outputs": [],
   "source": [
    "t = 1\n",
    "J = 1\n",
    "beta = 1/t\n",
    "M = np.array([[np.sqrt(math.cosh(beta*J)), np.sqrt(math.sinh(beta*J))],\n",
    "                [np.sqrt(math.cosh(beta*J)),-np.sqrt(math.sinh(beta*J))]])"
   ]
  },
  {
   "cell_type": "markdown",
   "metadata": {},
   "source": [
    "* $T_{cy}$"
   ]
  },
  {
   "cell_type": "code",
   "execution_count": 6,
   "metadata": {},
   "outputs": [
    {
     "name": "stdout",
     "output_type": "stream",
     "text": [
      "-----------------------\n",
      "tensor Name : \n",
      "tensor Rank : 2\n",
      "block_form  : false\n",
      "is_diag     : False\n",
      "on device   : cytnx device: CPU\n",
      "            -------------      \n",
      "           /             \\     \n",
      "     0 ____| 2         2 |____ 1  \n",
      "           \\             /     \n",
      "            -------------      \n",
      "-----------------------\n",
      "tensor Name : \n",
      "tensor Rank : 2\n",
      "block_form  : false\n",
      "is_diag     : False\n",
      "on device   : cytnx device: CPU\n",
      "            -------------      \n",
      "           /             \\     \n",
      "     0 ____| 2         2 |____ 1  \n",
      "           \\             /     \n",
      "            -------------      \n",
      "-----------------------\n",
      "tensor Name : Uni_M_up\n",
      "tensor Rank : 2\n",
      "block_form  : false\n",
      "is_diag     : False\n",
      "on device   : cytnx device: CPU\n",
      "            -------------      \n",
      "           /             \\     \n",
      "     0 ____| 2         2 |____ 1  \n",
      "           \\             /     \n",
      "            -------------      \n",
      "[[ 1.24220797  1.24220797]\n",
      " [ 1.08406697 -1.08406697]]\n",
      "-----------------------\n",
      "tensor Name : Uni_M_left\n",
      "tensor Rank : 2\n",
      "block_form  : false\n",
      "is_diag     : False\n",
      "on device   : cytnx device: CPU\n",
      "            -------------      \n",
      "           /             \\     \n",
      "     0 ____| 2         2 |____ 1  \n",
      "           \\             /     \n",
      "            -------------      \n",
      "[[ 1.24220797  1.24220797]\n",
      " [ 1.08406697 -1.08406697]]\n",
      "-----------------------\n",
      "tensor Name : Uni_M_right\n",
      "tensor Rank : 2\n",
      "block_form  : false\n",
      "is_diag     : False\n",
      "on device   : cytnx device: CPU\n",
      "            -------------      \n",
      "           /             \\     \n",
      "     0 ____| 2         2 |____ 1  \n",
      "           \\             /     \n",
      "            -------------      \n",
      "[[ 1.24220797  1.08406697]\n",
      " [ 1.24220797 -1.08406697]]\n",
      "-----------------------\n",
      "tensor Name : Uni_M_down\n",
      "tensor Rank : 2\n",
      "block_form  : false\n",
      "is_diag     : False\n",
      "on device   : cytnx device: CPU\n",
      "            -------------      \n",
      "           /             \\     \n",
      "     0 ____| 2         2 |____ 1  \n",
      "           \\             /     \n",
      "            -------------      \n",
      "[[ 1.24220797  1.08406697]\n",
      " [ 1.24220797 -1.08406697]]\n",
      "-----------------------\n",
      "tensor Name : UniDelta\n",
      "tensor Rank : 4\n",
      "block_form  : false\n",
      "is_diag     : False\n",
      "on device   : cytnx device: CPU\n",
      "            -------------      \n",
      "           /             \\     \n",
      "     0 ____| 2         2 |____ 2  \n",
      "           |             |     \n",
      "     1 ____| 2         2 |____ 3  \n",
      "           \\             /     \n",
      "            -------------      \n",
      "[[[[1. 0.]\n",
      "   [0. 0.]]\n",
      "\n",
      "  [[0. 0.]\n",
      "   [0. 0.]]]\n",
      "\n",
      "\n",
      " [[[0. 0.]\n",
      "   [0. 0.]]\n",
      "\n",
      "  [[0. 0.]\n",
      "   [0. 1.]]]]\n",
      "==== Network ====\n",
      "[o] mu : 0 ; -1 \n",
      "[o] ml : 1 ; -2 \n",
      "[o] mr : -3 ; 2 \n",
      "[o] md : -4 ; 3 \n",
      "[o] delta : -1 -2 ; -3 -4 \n",
      "TOUT : 0 1 ; 2 3 \n",
      "ORDER : \n",
      "=================\n",
      "\n",
      "-----------------------\n",
      "tensor Name : Uni_T\n",
      "tensor Rank : 4\n",
      "block_form  : false\n",
      "is_diag     : False\n",
      "on device   : cytnx device: CPU\n",
      "            -------------      \n",
      "           /             \\     \n",
      "     0 ____| 2         2 |____ 2  \n",
      "           |             |     \n",
      "     1 ____| 2         2 |____ 3  \n",
      "           \\             /     \n",
      "            -------------      \n",
      "[[[[4.76219569 0.        ]\n",
      "   [0.         3.62686041]]\n",
      "\n",
      "  [[0.         3.62686041]\n",
      "   [3.62686041 0.        ]]]\n",
      "\n",
      "\n",
      " [[[0.         3.62686041]\n",
      "   [3.62686041 0.        ]]\n",
      "\n",
      "  [[3.62686041 0.        ]\n",
      "   [0.         2.76219569]]]]\n"
     ]
    }
   ],
   "source": [
    "t=1\n",
    "m = np.array([[np.sqrt(np.cosh(1/t)),np.sqrt(np.sinh(1/t))],\n",
    "                [np.sqrt(np.cosh(1/t)),-np.sqrt(np.sinh(1/t))]])\n",
    "m_transpose = np.copy(m.transpose())\n",
    "CyT_M = cy.from_numpy(m)\n",
    "Uni_M = cy.UniTensor(CyT_M, rowrank = 1)\n",
    "Uni_M.print_diagram()\n",
    "# np.array([[np.sqrt(np.cosh(1/t)),np.sqrt(np.sinh(1/t))],[np.sqrt(np.cosh(1/t)),-np.sqrt(np.sinh(1/t))]])\n",
    "CyT_M_transpose = cy.from_numpy(m_transpose)\n",
    "Uni_M_transpose = cy.UniTensor(CyT_M_transpose, rowrank = 1)\n",
    "Uni_M_transpose.print_diagram()\n",
    "\n",
    "Uni_M_up = Uni_M_transpose.clone()\n",
    "Uni_M_up.set_name(\"Uni_M_up\")\n",
    "ut_print(Uni_M_up)\n",
    "\n",
    "Uni_M_left = Uni_M_transpose.clone()\n",
    "Uni_M_left.set_name(\"Uni_M_left\")\n",
    "ut_print(Uni_M_left)\n",
    "\n",
    "Uni_M_right = Uni_M.clone()\n",
    "Uni_M_right.set_name(\"Uni_M_right\")\n",
    "ut_print(Uni_M_right)\n",
    "\n",
    "Uni_M_down = Uni_M.clone()\n",
    "Uni_M_down.set_name(\"Uni_M_down\")\n",
    "ut_print(Uni_M_down)\n",
    "\n",
    "delta = np.zeros((2,2,2,2))\n",
    "delta[0,0,0,0] = delta[1,1,1,1] = 1\n",
    "\n",
    "Delta = cy.from_numpy(delta)\n",
    "UniDelta = cy.UniTensor(Delta, rowrank = 2)\n",
    "UniDelta.set_labels([0,1,2,3])\n",
    "UniDelta.set_name(\"UniDelta\")\n",
    "ut_print(UniDelta)\n",
    "\n",
    "M_network = cy.Network(\"network/T.net\")\n",
    "M_network.PutUniTensors(['mu','ml','mr','md','delta'], [Uni_M_up,Uni_M_left,Uni_M_right,Uni_M_down,UniDelta])\n",
    "print(M_network)\n",
    "\n",
    "Uni_T=M_network.Launch()\n",
    "Uni_T.set_name(\"Uni_T\")\n",
    "CyT_T = Uni_T.get_block()\n",
    "ut_print(Uni_T)\n",
    "\n",
    "Uni_T_Ytrace = Uni_T.clone().Trace(0, 3)\n",
    "Uni_T_Xtrace = Uni_T.clone().Trace(1, 2)"
   ]
  },
  {
   "cell_type": "markdown",
   "metadata": {},
   "source": [
    "### Contraction in both direction"
   ]
  },
  {
   "cell_type": "markdown",
   "metadata": {},
   "source": [
    "#### Dictionary to store Tensor"
   ]
  },
  {
   "cell_type": "code",
   "execution_count": 7,
   "metadata": {},
   "outputs": [],
   "source": [
    "Uni_T_dic = {}\n",
    "Uni_T_Xtrace_dic = {}\n",
    "Uni_T_Ytrace_dic = {}\n",
    "EIGVLE_Xtrace_dic = {}\n",
    "EIGVLE_Ytrace_dic = {}\n",
    "\n",
    "Uni_T_dic[(1,1)] = Uni_T\n",
    "Uni_T_Ytrace_dic[(1,1)] = Uni_T_Ytrace.clone()\n",
    "Uni_T_Xtrace_dic[(1,1)] = Uni_T_Xtrace.clone()\n",
    "\n",
    "EIGVLE_Ytrace_dic[(1,1)], v = np.linalg.eigh(Uni_T_Ytrace.get_block().numpy())\n",
    "EIGVLE_Xtrace_dic[(1,1)], v = np.linalg.eigh(Uni_T_Xtrace.get_block().numpy())"
   ]
  },
  {
   "cell_type": "markdown",
   "metadata": {},
   "source": [
    "#### $T_{x=1,y=1},T_{x=2,y=2},T_{x=4,y=4}$"
   ]
  },
  {
   "cell_type": "markdown",
   "metadata": {},
   "source": [
    "### Temperature Iteration & X,Y iteration"
   ]
  },
  {
   "cell_type": "code",
   "execution_count": 8,
   "metadata": {},
   "outputs": [],
   "source": [
    "Llist = [1,2,4]\n",
    "corr_Square = np.zeros((len(Llist),21),dtype=float)\n",
    "Lambda_Square = np.zeros((len(Llist),2),dtype=float)\n",
    "t = np.linspace(1,3,21)\n",
    "for t_i in range(len(t)):\n",
    "    Uni_T, y = T(t[t_i])\n",
    "    TU = Uni_T.clone()\n",
    "    TD = Uni_T.clone()\n",
    "    TL = Uni_T.clone()\n",
    "    TR = Uni_T.clone()\n",
    "\n",
    "    Uni_T_dic_Square = {}\n",
    "    Uni_T_trace_dic_Square = {}\n",
    "    EIGVLE_dic_Square = {}\n",
    "\n",
    "    for y_i in range(len(Llist)):\n",
    "        if(y_i==0):\n",
    "            Uni_T_temp3 = Uni_T.clone()\n",
    "            Uni_T_dic_Square[(y_i,y_i)] = Uni_T_temp3.clone()\n",
    "            Uni_T_trace_dic_Square[(y_i,y_i)] = Uni_T_temp3.Trace(0,3).clone()\n",
    "            ee, v = la.eigh(Uni_T_temp3.Trace(0,3).get_block().numpy()) \n",
    "            EIGVLE_dic_Square[(y_i,y_i)] = ee\n",
    "            Lambda_Square[y_i,0] = np.sort(EIGVLE_dic_Square[(y_i,y_i)])[-1]\n",
    "            Lambda_Square[y_i,1] = np.sort(EIGVLE_dic_Square[(y_i,y_i)])[-2]\n",
    "            corr_Square[y_i,t_i] = 1/np.log(Lambda_Square[y_i,0]/Lambda_Square[y_i,1])\n",
    "        else:\n",
    "            Uni_T_temp1 = Uni_T_temp3.clone()\n",
    "            Uni_T_temp11 = Uni_T_temp3.clone()\n",
    "            Uni_T_temp2 = Ymerge(Uni_T_temp1,Uni_T_temp11)\n",
    "            Uni_T_temp22 = Uni_T_temp2.clone()\n",
    "            Uni_T_temp3 = Xmerge(Uni_T_temp2,Uni_T_temp22)\n",
    "            Uni_T_dic_Square[(y_i,y_i)] = Uni_T_temp3.clone()\n",
    "            Uni_T_trace_dic_Square[(y_i,y_i)] = Uni_T_temp3.Trace(0,3).clone()\n",
    "            ee, v = la.eigh(Uni_T_temp3.Trace(0,3).get_block().numpy()) \n",
    "            EIGVLE_dic_Square[(y_i,y_i)] = ee            \n",
    "            Lambda_Square[y_i,0] = np.sort(ee)[-1]\n",
    "            Lambda_Square[y_i,1] = np.sort(ee)[-2]\n",
    "            corr_Square[y_i,t_i] = 1/np.log(Lambda_Square[y_i,0]/Lambda_Square[y_i,1])\n",
    "            # print(\"shape:\",np.shape(Uni_T_dic1[(y_i,y_i)].get_block().numpy())) "
   ]
  },
  {
   "cell_type": "markdown",
   "metadata": {},
   "source": [
    "## Trunction"
   ]
  },
  {
   "cell_type": "markdown",
   "metadata": {},
   "source": [
    "### Method 1: Find isometry using SVD"
   ]
  },
  {
   "cell_type": "code",
   "execution_count": null,
   "metadata": {},
   "outputs": [],
   "source": []
  },
  {
   "cell_type": "code",
   "execution_count": 39,
   "metadata": {},
   "outputs": [
    {
     "name": "stdout",
     "output_type": "stream",
     "text": [
      "-----------------------\n",
      "tensor Name : \n",
      "tensor Rank : 4\n",
      "block_form  : false\n",
      "is_diag     : False\n",
      "on device   : cytnx device: CPU\n",
      "            -------------      \n",
      "           /             \\     \n",
      "     0 ____| 2         4 |____ 2  \n",
      "           |             |     \n",
      "     1 ____| 4         2 |____ 3  \n",
      "           \\             /     \n",
      "            -------------      \n",
      "-----------------------\n",
      "tensor Name : \n",
      "tensor Rank : 4\n",
      "block_form  : false\n",
      "is_diag     : False\n",
      "on device   : cytnx device: CPU\n",
      "            -------------      \n",
      "           /             \\     \n",
      "     1 ____| 4         2 |____ 0  \n",
      "           |             |     \n",
      "           |           2 |____ 3  \n",
      "           |             |     \n",
      "           |           4 |____ 2  \n",
      "           \\             /     \n",
      "            -------------      \n",
      "Tensor name: U\n",
      "braket_form : False\n",
      "is_diag    : False\n",
      "\n",
      "Total elem: 8\n",
      "type  : Double (Float64)\n",
      "cytnx device: CPU\n",
      "Shape : (2,4)\n",
      "[[-9.90701e-01 -0.00000e+00 -0.00000e+00 -1.36057e-01 ]\n",
      " [0.00000e+00 7.07107e-01 7.07107e-01 0.00000e+00 ]]\n",
      "\n",
      "\n",
      "\n"
     ]
    },
    {
     "data": {
      "text/plain": []
     },
     "execution_count": 39,
     "metadata": {},
     "output_type": "execute_result"
    }
   ],
   "source": [
    "T_y2= Ymerge(TU,TD)\n",
    "\n",
    "Uni_to_be_truncate = T_y2.clone()\n",
    "Uni_to_be_truncate.print_diagram()\n",
    "Uni_to_be_truncate.permute_([1,0,3,2], rowrank = 1, by_label = True)\n",
    "# Uni_to_be_truncate.print_diagram()\n",
    "# Uni_to_be_truncate.combineBonds([0,3,2])\n",
    "Uni_to_be_truncate.print_diagram()\n",
    "S,U,Vd = cy.linalg.Svd_truncate(Uni_to_be_truncate, keepdim=2)\n",
    "S.set_name(\"S\")\n",
    "U.set_name(\"U\")\n",
    "U_dagger = U.Dagger().clone()\n",
    "U_dagger.set_name(\"U\")\n",
    "\n",
    "\n"
   ]
  },
  {
   "cell_type": "code",
   "execution_count": 53,
   "metadata": {},
   "outputs": [
    {
     "name": "stdout",
     "output_type": "stream",
     "text": [
      "-----------------------\n",
      "tensor Name : S\n",
      "tensor Rank : 2\n",
      "block_form  : false\n",
      "is_diag     : True\n",
      "on device   : cytnx device: CPU\n",
      "            -------------      \n",
      "           /             \\     \n",
      "    -1 ____| 2         2 |____ -2 \n",
      "           \\             /     \n",
      "            -------------      \n",
      "-----------------------\n",
      "tensor Name : U\n",
      "tensor Rank : 2\n",
      "block_form  : false\n",
      "is_diag     : False\n",
      "on device   : cytnx device: CPU\n",
      "            -------------      \n",
      "           /             \\     \n",
      "     1 ____| 4         2 |____ -1 \n",
      "           \\             /     \n",
      "            -------------      \n",
      "-----------------------\n",
      "tensor Name : U\n",
      "tensor Rank : 2\n",
      "block_form  : false\n",
      "is_diag     : False\n",
      "on device   : cytnx device: CPU\n",
      "            -------------      \n",
      "           /             \\     \n",
      "    -1 ____| 2         4 |____ 1  \n",
      "           \\             /     \n",
      "            -------------      \n",
      "-----------------------\n",
      "tensor Name : U\n",
      "tensor Rank : 2\n",
      "block_form  : false\n",
      "is_diag     : False\n",
      "on device   : cytnx device: CPU\n",
      "            -------------      \n",
      "           /             \\     \n",
      "     1 ____| 4         2 |____ -1 \n",
      "           \\             /     \n",
      "            -------------      \n"
     ]
    },
    {
     "ename": "RuntimeError",
     "evalue": "\n# Cytnx error occur at virtual void cytnx::DenseUniTensor::permute_(const std::vector<long int>&, const cytnx_int64&, const bool&)\n# error: [ERROR] label 10 does not exist in current UniTensor.\n\n# file : /home/travis/miniconda/envs/test-environment/conda-bld/cytnx_1614926727399/work/src/DenseUniTensor.cpp (182)",
     "output_type": "error",
     "traceback": [
      "\u001b[0;31m---------------------------------------------------------------------------\u001b[0m",
      "\u001b[0;31mRuntimeError\u001b[0m                              Traceback (most recent call last)",
      "\u001b[1;32m/home/aronton/109022802_11020PHYS401200-Computational-Physics/109022802_2Dising_report_PartD_mission_incomplete.ipynb Cell 33'\u001b[0m in \u001b[0;36m<cell line: 7>\u001b[0;34m()\u001b[0m\n\u001b[1;32m      <a href='vscode-notebook-cell://wsl%2Bubuntu-20.04/home/aronton/109022802_11020PHYS401200-Computational-Physics/109022802_2Dising_report_PartD_mission_incomplete.ipynb#ch0000047vscode-remote?line=3'>4</a>\u001b[0m U_dagger\u001b[39m.\u001b[39mprint_diagram()\n\u001b[1;32m      <a href='vscode-notebook-cell://wsl%2Bubuntu-20.04/home/aronton/109022802_11020PHYS401200-Computational-Physics/109022802_2Dising_report_PartD_mission_incomplete.ipynb#ch0000047vscode-remote?line=4'>5</a>\u001b[0m U\u001b[39m.\u001b[39mprint_diagram()\n\u001b[0;32m----> <a href='vscode-notebook-cell://wsl%2Bubuntu-20.04/home/aronton/109022802_11020PHYS401200-Computational-Physics/109022802_2Dising_report_PartD_mission_incomplete.ipynb#ch0000047vscode-remote?line=6'>7</a>\u001b[0m U_dagger\u001b[39m.\u001b[39;49mpermute_([\u001b[39m10\u001b[39;49m,\u001b[39m2\u001b[39;49m], rowrank \u001b[39m=\u001b[39;49m \u001b[39m1\u001b[39;49m, by_label \u001b[39m=\u001b[39;49m \u001b[39mTrue\u001b[39;49;00m)\u001b[39m.\u001b[39mprint_diagram()\n\u001b[1;32m      <a href='vscode-notebook-cell://wsl%2Bubuntu-20.04/home/aronton/109022802_11020PHYS401200-Computational-Physics/109022802_2Dising_report_PartD_mission_incomplete.ipynb#ch0000047vscode-remote?line=7'>8</a>\u001b[0m Vd\u001b[39m.\u001b[39mprint_diagram()\n",
      "\u001b[0;31mRuntimeError\u001b[0m: \n# Cytnx error occur at virtual void cytnx::DenseUniTensor::permute_(const std::vector<long int>&, const cytnx_int64&, const bool&)\n# error: [ERROR] label 10 does not exist in current UniTensor.\n\n# file : /home/travis/miniconda/envs/test-environment/conda-bld/cytnx_1614926727399/work/src/DenseUniTensor.cpp (182)"
     ]
    }
   ],
   "source": [
    "S.print_diagram()\n",
    "U.print_diagram()\n",
    "U_dagger = U.Dagger()\n",
    "U_dagger.print_diagram()\n",
    "U.print_diagram()\n",
    "\n",
    "U_dagger.permute_([10,2], rowrank = 1, by_label = True).print_diagram()\n",
    "Vd.print_diagram()\n"
   ]
  },
  {
   "cell_type": "code",
   "execution_count": 61,
   "metadata": {},
   "outputs": [
    {
     "name": "stdout",
     "output_type": "stream",
     "text": [
      "-----------------------\n",
      "tensor Name : U\n",
      "tensor Rank : 2\n",
      "block_form  : false\n",
      "is_diag     : False\n",
      "on device   : cytnx device: CPU\n",
      "            -------------      \n",
      "           /             \\     \n",
      "     1 ____| 4         2 |____ -1 \n",
      "           \\             /     \n",
      "            -------------      \n"
     ]
    },
    {
     "ename": "RuntimeError",
     "evalue": "\n# Cytnx error occur at virtual void cytnx::DenseUniTensor::permute_(const std::vector<long int>&, const cytnx_int64&, const bool&)\n# error: [ERROR] label 0 does not exist in current UniTensor.\n\n# file : /home/travis/miniconda/envs/test-environment/conda-bld/cytnx_1614926727399/work/src/DenseUniTensor.cpp (182)",
     "output_type": "error",
     "traceback": [
      "\u001b[0;31m---------------------------------------------------------------------------\u001b[0m",
      "\u001b[0;31mRuntimeError\u001b[0m                              Traceback (most recent call last)",
      "\u001b[1;32m/home/aronton/109022802_11020PHYS401200-Computational-Physics/109022802_2Dising_report_PartD_mission_incomplete.ipynb Cell 34'\u001b[0m in \u001b[0;36m<cell line: 2>\u001b[0;34m()\u001b[0m\n\u001b[1;32m      <a href='vscode-notebook-cell://wsl%2Bubuntu-20.04/home/aronton/109022802_11020PHYS401200-Computational-Physics/109022802_2Dising_report_PartD_mission_incomplete.ipynb#ch0000050vscode-remote?line=0'>1</a>\u001b[0m U_dagger\u001b[39m.\u001b[39mprint_diagram()\n\u001b[0;32m----> <a href='vscode-notebook-cell://wsl%2Bubuntu-20.04/home/aronton/109022802_11020PHYS401200-Computational-Physics/109022802_2Dising_report_PartD_mission_incomplete.ipynb#ch0000050vscode-remote?line=1'>2</a>\u001b[0m U_dagger\u001b[39m.\u001b[39;49mpermute_([\u001b[39m1\u001b[39;49m,\u001b[39m0\u001b[39;49m], rowrank \u001b[39m=\u001b[39;49m \u001b[39m1\u001b[39;49m, by_label \u001b[39m=\u001b[39;49m \u001b[39mTrue\u001b[39;49;00m)\n\u001b[1;32m      <a href='vscode-notebook-cell://wsl%2Bubuntu-20.04/home/aronton/109022802_11020PHYS401200-Computational-Physics/109022802_2Dising_report_PartD_mission_incomplete.ipynb#ch0000050vscode-remote?line=2'>3</a>\u001b[0m U_dagger\u001b[39m.\u001b[39mprint_diagram()\n",
      "\u001b[0;31mRuntimeError\u001b[0m: \n# Cytnx error occur at virtual void cytnx::DenseUniTensor::permute_(const std::vector<long int>&, const cytnx_int64&, const bool&)\n# error: [ERROR] label 0 does not exist in current UniTensor.\n\n# file : /home/travis/miniconda/envs/test-environment/conda-bld/cytnx_1614926727399/work/src/DenseUniTensor.cpp (182)"
     ]
    }
   ],
   "source": [
    "U_dagger.print_diagram()\n",
    "U_dagger.permute_([1,0], rowrank = 1, by_label = True)\n",
    "U_dagger.print_diagram()\n"
   ]
  },
  {
   "cell_type": "code",
   "execution_count": 45,
   "metadata": {},
   "outputs": [
    {
     "name": "stdout",
     "output_type": "stream",
     "text": [
      "-----------------------\n",
      "tensor Name : \n",
      "tensor Rank : 4\n",
      "block_form  : false\n",
      "is_diag     : False\n",
      "on device   : cytnx device: CPU\n",
      "            -------------      \n",
      "           /             \\     \n",
      "    -1 ____| 2         4 |____ 2  \n",
      "           |             |     \n",
      "     0 ____| 2         2 |____ 3  \n",
      "           \\             /     \n",
      "            -------------      \n"
     ]
    }
   ],
   "source": [
    "cy.Contract(U.Dagger(),T_y2).print_diagram()"
   ]
  },
  {
   "cell_type": "code",
   "execution_count": 16,
   "metadata": {},
   "outputs": [
    {
     "name": "stdout",
     "output_type": "stream",
     "text": [
      "-----------------------\n",
      "tensor Name : \n",
      "tensor Rank : 4\n",
      "block_form  : false\n",
      "is_diag     : False\n",
      "on device   : cytnx device: CPU\n",
      "            -------------      \n",
      "           /             \\     \n",
      "     0 ____| 2         4 |____ 2  \n",
      "           |             |     \n",
      "     1 ____| 4         2 |____ 3  \n",
      "           \\             /     \n",
      "            -------------      \n",
      "-----------------------\n",
      "tensor Name : \n",
      "tensor Rank : 4\n",
      "block_form  : false\n",
      "is_diag     : False\n",
      "on device   : cytnx device: CPU\n",
      "            -------------      \n",
      "           /             \\     \n",
      "     1 ____| 4         4 |____ 2  \n",
      "           |             |     \n",
      "     0 ____| 2           |        \n",
      "           |             |     \n",
      "     3 ____| 2           |        \n",
      "           \\             /     \n",
      "            -------------      \n",
      "-----------------------\n",
      "tensor Name : \n",
      "tensor Rank : 2\n",
      "block_form  : false\n",
      "is_diag     : False\n",
      "on device   : cytnx device: CPU\n",
      "            -------------      \n",
      "           /             \\     \n",
      "     0 ____| 16        4 |____ 2  \n",
      "           \\             /     \n",
      "            -------------      \n",
      "Tensor name: U_l_dagger\n",
      "braket_form : False\n",
      "is_diag    : False\n",
      "\n",
      "Total elem: 64\n",
      "type  : Double (Float64)\n",
      "cytnx device: CPU\n",
      "Shape : (4,16)\n",
      "[[-8.86946e-01 -0.00000e+00 -0.00000e+00 -1.02816e-01 -0.00000e+00 -2.85164e-01 -1.02816e-01 -0.00000e+00 -0.00000e+00 -1.02816e-01 -2.85164e-01 -0.00000e+00 -1.02816e-01 -0.00000e+00 -0.00000e+00 -9.16840e-02 ]\n",
      " [-0.00000e+00 -4.76003e-01 -4.76003e-01 -0.00000e+00 -4.76003e-01 -0.00000e+00 -0.00000e+00 -1.53041e-01 -4.76003e-01 -0.00000e+00 -0.00000e+00 -1.53041e-01 -0.00000e+00 -1.53041e-01 -1.53041e-01 -0.00000e+00 ]\n",
      " [0.00000e+00 4.76003e-01 -4.76003e-01 0.00000e+00 4.76003e-01 0.00000e+00 0.00000e+00 -1.53041e-01 -4.76003e-01 0.00000e+00 0.00000e+00 1.53041e-01 0.00000e+00 -1.53041e-01 1.53041e-01 -0.00000e+00 ]\n",
      " [1.86367e-01 -0.00000e+00 -0.00000e+00 -4.89315e-01 -0.00000e+00 5.99192e-02 -4.89315e-01 -0.00000e+00 -0.00000e+00 -4.89315e-01 5.99192e-02 -0.00000e+00 -4.89315e-01 -0.00000e+00 -0.00000e+00 1.92648e-02 ]]\n",
      "\n",
      "\n",
      "\n"
     ]
    },
    {
     "data": {
      "text/plain": []
     },
     "execution_count": 16,
     "metadata": {},
     "output_type": "execute_result"
    }
   ],
   "source": [
    "T_y2= Ymerge(TU,TD)\n",
    "\n",
    "Uni_to_be_truncate_l = T_y2.clone()\n",
    "Uni_to_be_truncate_l.print_diagram()\n",
    "Uni_to_be_truncate_l.permute_([1,0,3,2], rowrank = 3, by_label = True)\n",
    "Uni_to_be_truncate_l.print_diagram()\n",
    "Uni_to_be_truncate_l.combineBonds([0,3,1], by_label = True)\n",
    "Uni_to_be_truncate_l.print_diagram()\n",
    "S,U_l,Vd = cy.linalg.Svd_truncate(Uni_to_be_truncate_l, keepdim=4)\n",
    "U_l.set_name(\"U\")\n",
    "U_l_dagger = U_l.Dagger().clone()\n",
    "U_l_dagger.set_name(\"U_l_dagger\")\n"
   ]
  },
  {
   "cell_type": "code",
   "execution_count": 25,
   "metadata": {},
   "outputs": [
    {
     "name": "stdout",
     "output_type": "stream",
     "text": [
      "Tensor name: U\n",
      "braket_form : False\n",
      "is_diag    : False\n",
      "\n",
      "Total elem: 16\n",
      "type  : Double (Float64)\n",
      "cytnx device: CPU\n",
      "Shape : (4,4)\n",
      "[[-9.90701e-01 0.00000e+00 -0.00000e+00 1.36057e-01 ]\n",
      " [-0.00000e+00 7.07107e-01 -7.07107e-01 -0.00000e+00 ]\n",
      " [-0.00000e+00 7.07107e-01 7.07107e-01 0.00000e+00 ]\n",
      " [-1.36057e-01 0.00000e+00 -0.00000e+00 -9.90701e-01 ]]\n",
      "\n",
      "\n",
      "\n",
      "\n"
     ]
    }
   ],
   "source": [
    "print(U)\n"
   ]
  },
  {
   "cell_type": "code",
   "execution_count": 28,
   "metadata": {},
   "outputs": [
    {
     "name": "stdout",
     "output_type": "stream",
     "text": [
      "Tensor name: \n",
      "braket_form : False\n",
      "is_diag    : False\n",
      "\n",
      "Total elem: 16\n",
      "type  : Double (Float64)\n",
      "cytnx device: CPU\n",
      "Shape : (4,4)\n",
      "[[-9.90701e-01 -2.08195e-17 2.08195e-17 1.36057e-01 ]\n",
      " [0.00000e+00 -7.07107e-01 7.07107e-01 0.00000e+00 ]\n",
      " [0.00000e+00 -7.07107e-01 -7.07107e-01 -0.00000e+00 ]\n",
      " [-1.36057e-01 1.55623e-16 -1.55623e-16 -9.90701e-01 ]]\n",
      "\n",
      "\n",
      "\n",
      "\n"
     ]
    }
   ],
   "source": [
    "print(Vd.Dagger())\n"
   ]
  },
  {
   "cell_type": "code",
   "execution_count": 18,
   "metadata": {},
   "outputs": [
    {
     "name": "stdout",
     "output_type": "stream",
     "text": [
      "Tensor name: U\n",
      "braket_form : False\n",
      "is_diag    : False\n",
      "\n",
      "Total elem: 16\n",
      "type  : Double (Float64)\n",
      "cytnx device: CPU\n",
      "Shape : (4,4)\n",
      "[[-9.90701e-01 -0.00000e+00 -0.00000e+00 -1.36057e-01 ]\n",
      " [0.00000e+00 7.07107e-01 7.07107e-01 0.00000e+00 ]\n",
      " [-0.00000e+00 -7.07107e-01 7.07107e-01 -0.00000e+00 ]\n",
      " [1.36057e-01 -0.00000e+00 0.00000e+00 -9.90701e-01 ]]\n",
      "\n",
      "\n",
      "\n",
      "\n"
     ]
    }
   ],
   "source": [
    "print(U_dagger)\n"
   ]
  },
  {
   "cell_type": "code",
   "execution_count": 19,
   "metadata": {},
   "outputs": [
    {
     "name": "stdout",
     "output_type": "stream",
     "text": [
      "Tensor name: U\n",
      "braket_form : False\n",
      "is_diag    : False\n",
      "\n",
      "Total elem: 16\n",
      "type  : Double (Float64)\n",
      "cytnx device: CPU\n",
      "Shape : (4,4)\n",
      "[[-9.90701e-01 0.00000e+00 -0.00000e+00 1.36057e-01 ]\n",
      " [-0.00000e+00 7.07107e-01 -7.07107e-01 -0.00000e+00 ]\n",
      " [-0.00000e+00 7.07107e-01 7.07107e-01 0.00000e+00 ]\n",
      " [-1.36057e-01 0.00000e+00 -0.00000e+00 -9.90701e-01 ]]\n",
      "\n",
      "\n",
      "\n",
      "\n"
     ]
    }
   ],
   "source": [
    "print(U)\n"
   ]
  },
  {
   "cell_type": "code",
   "execution_count": 17,
   "metadata": {},
   "outputs": [
    {
     "name": "stdout",
     "output_type": "stream",
     "text": [
      "-----------------------\n",
      "tensor Name : \n",
      "tensor Rank : 4\n",
      "block_form  : false\n",
      "is_diag     : False\n",
      "on device   : cytnx device: CPU\n",
      "            -------------      \n",
      "           /             \\     \n",
      "     0 ____| 2         4 |____ 2  \n",
      "           |             |     \n",
      "     1 ____| 4         2 |____ 3  \n",
      "           \\             /     \n",
      "            -------------      \n",
      "-----------------------\n",
      "tensor Name : U\n",
      "tensor Rank : 2\n",
      "block_form  : false\n",
      "is_diag     : False\n",
      "on device   : cytnx device: CPU\n",
      "            -------------      \n",
      "           /             \\     \n",
      "     1 ____| 4         4 |____ -1 \n",
      "           \\             /     \n",
      "            -------------      \n",
      "-----------------------\n",
      "tensor Name : U\n",
      "tensor Rank : 2\n",
      "block_form  : false\n",
      "is_diag     : False\n",
      "on device   : cytnx device: CPU\n",
      "            -------------      \n",
      "           /             \\     \n",
      "    -1 ____| 4         4 |____ 1  \n",
      "           \\             /     \n",
      "            -------------      \n"
     ]
    }
   ],
   "source": [
    "T_y2.print_diagram()\n",
    "U.print_diagram()\n",
    "U_dagger.print_diagram()"
   ]
  },
  {
   "cell_type": "code",
   "execution_count": 43,
   "metadata": {},
   "outputs": [],
   "source": [
    "S,U,Vd = cy.linalg.Svd(Uni_to_be_truncate)"
   ]
  },
  {
   "cell_type": "code",
   "execution_count": 44,
   "metadata": {},
   "outputs": [
    {
     "name": "stdout",
     "output_type": "stream",
     "text": [
      "-----------------------\n",
      "tensor Name : \n",
      "tensor Rank : 2\n",
      "block_form  : false\n",
      "is_diag     : False\n",
      "on device   : cytnx device: CPU\n",
      "            -------------      \n",
      "           /             \\     \n",
      "    -2 ____| 4        16 |____ 0  \n",
      "           \\             /     \n",
      "            -------------      \n"
     ]
    }
   ],
   "source": [
    "Vd.print_diagram()"
   ]
  },
  {
   "cell_type": "code",
   "execution_count": 45,
   "metadata": {},
   "outputs": [
    {
     "name": "stdout",
     "output_type": "stream",
     "text": [
      "-----------------------\n",
      "tensor Name : \n",
      "tensor Rank : 2\n",
      "block_form  : false\n",
      "is_diag     : False\n",
      "on device   : cytnx device: CPU\n",
      "            -------------      \n",
      "           /             \\     \n",
      "     1 ____| 4         4 |____ -1 \n",
      "           \\             /     \n",
      "            -------------      \n"
     ]
    }
   ],
   "source": [
    "U.print_diagram()"
   ]
  },
  {
   "cell_type": "code",
   "execution_count": 46,
   "metadata": {},
   "outputs": [
    {
     "name": "stdout",
     "output_type": "stream",
     "text": [
      "-----------------------\n",
      "tensor Name : \n",
      "tensor Rank : 2\n",
      "block_form  : false\n",
      "is_diag     : True\n",
      "on device   : cytnx device: CPU\n",
      "            -------------      \n",
      "           /             \\     \n",
      "    -1 ____| 4         4 |____ -2 \n",
      "           \\             /     \n",
      "            -------------      \n"
     ]
    }
   ],
   "source": [
    "S.print_diagram()"
   ]
  },
  {
   "cell_type": "code",
   "execution_count": 31,
   "metadata": {},
   "outputs": [],
   "source": [
    "S,U,Vd = cy.linalg.Svd_truncate(T_y2, keepdim=4)"
   ]
  },
  {
   "cell_type": "code",
   "execution_count": 32,
   "metadata": {},
   "outputs": [
    {
     "name": "stdout",
     "output_type": "stream",
     "text": [
      "-----------------------\n",
      "tensor Name : \n",
      "tensor Rank : 3\n",
      "block_form  : false\n",
      "is_diag     : False\n",
      "on device   : cytnx device: CPU\n",
      "            -------------      \n",
      "           /             \\     \n",
      "    -2 ____| 4         4 |____ 2  \n",
      "           |             |     \n",
      "           |           2 |____ 3  \n",
      "           \\             /     \n",
      "            -------------      \n"
     ]
    }
   ],
   "source": [
    "Vd.print_diagram()"
   ]
  },
  {
   "cell_type": "code",
   "execution_count": 33,
   "metadata": {},
   "outputs": [
    {
     "name": "stdout",
     "output_type": "stream",
     "text": [
      "-----------------------\n",
      "tensor Name : \n",
      "tensor Rank : 2\n",
      "block_form  : false\n",
      "is_diag     : True\n",
      "on device   : cytnx device: CPU\n",
      "            -------------      \n",
      "           /             \\     \n",
      "    -1 ____| 4         4 |____ -2 \n",
      "           \\             /     \n",
      "            -------------      \n"
     ]
    }
   ],
   "source": [
    "S.print_diagram()"
   ]
  },
  {
   "cell_type": "code",
   "execution_count": 34,
   "metadata": {},
   "outputs": [
    {
     "name": "stdout",
     "output_type": "stream",
     "text": [
      "-----------------------\n",
      "tensor Name : \n",
      "tensor Rank : 3\n",
      "block_form  : false\n",
      "is_diag     : False\n",
      "on device   : cytnx device: CPU\n",
      "            -------------      \n",
      "           /             \\     \n",
      "     0 ____| 2         4 |____ -1 \n",
      "           |             |     \n",
      "     1 ____| 4           |        \n",
      "           \\             /     \n",
      "            -------------      \n"
     ]
    }
   ],
   "source": [
    "U.print_diagram()"
   ]
  },
  {
   "cell_type": "markdown",
   "metadata": {},
   "source": [
    "### Method 2 : Find isometry by diagonalizing TT * TT.dagger (faster)"
   ]
  },
  {
   "cell_type": "markdown",
   "metadata": {},
   "source": [
    "### Check with Y Iteration Case"
   ]
  }
 ],
 "metadata": {
  "interpreter": {
   "hash": "f07da4dd2c5e6e6ee9947978191292ef7f1ff9a47d8821a5a9bd78557845d769"
  },
  "kernelspec": {
   "display_name": "Python 3.9.13 ('cytnx': conda)",
   "language": "python",
   "name": "python3"
  },
  "language_info": {
   "codemirror_mode": {
    "name": "ipython",
    "version": 3
   },
   "file_extension": ".py",
   "mimetype": "text/x-python",
   "name": "python",
   "nbconvert_exporter": "python",
   "pygments_lexer": "ipython3",
   "version": "3.8.13"
  },
  "orig_nbformat": 4
 },
 "nbformat": 4,
 "nbformat_minor": 2
}
