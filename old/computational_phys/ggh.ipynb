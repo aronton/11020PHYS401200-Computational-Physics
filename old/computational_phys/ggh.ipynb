{
 "cells": [
  {
   "cell_type": "code",
   "execution_count": 1,
   "metadata": {},
   "outputs": [
    {
     "name": "stdout",
     "output_type": "stream",
     "text": [
      "\n",
      "Total elem: 4\n",
      "type  : Double (Float64)\n",
      "cytnx device: CPU\n",
      "Shape : (4)\n",
      "[1.00000e+00 1.00000e+00 1.00000e+00 1.00000e+00 ]\n",
      "\n",
      "\n",
      "\n"
     ]
    }
   ],
   "source": [
    "import cytnx\n",
    "\n",
    "A = cytnx.ones(4)\n",
    "print(A)"
   ]
  },
  {
   "cell_type": "code",
   "execution_count": null,
   "metadata": {},
   "outputs": [],
   "source": []
  }
 ],
 "metadata": {
  "interpreter": {
   "hash": "f07da4dd2c5e6e6ee9947978191292ef7f1ff9a47d8821a5a9bd78557845d769"
  },
  "kernelspec": {
   "display_name": "Python 3.9.12 ('cytnx': conda)",
   "language": "python",
   "name": "python3"
  },
  "language_info": {
   "codemirror_mode": {
    "name": "ipython",
    "version": 3
   },
   "file_extension": ".py",
   "mimetype": "text/x-python",
   "name": "python",
   "nbconvert_exporter": "python",
   "pygments_lexer": "ipython3",
   "version": "3.8.13"
  },
  "orig_nbformat": 4
 },
 "nbformat": 4,
 "nbformat_minor": 2
}
