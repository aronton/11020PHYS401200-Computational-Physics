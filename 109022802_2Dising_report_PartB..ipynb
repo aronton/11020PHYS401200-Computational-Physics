{
 "cells": [
  {
   "cell_type": "markdown",
   "metadata": {},
   "source": [
    "### Report to 11020PHYS401200-Computational-Physics"
   ]
  },
  {
   "cell_type": "markdown",
   "metadata": {},
   "source": [
    "### Part B : Build Transfer Matrix By Tensor Method ( Numpy vs Cytnx)"
   ]
  },
  {
   "cell_type": "markdown",
   "metadata": {},
   "source": [
    "* Author : Yen-Tung Lin\n",
    "* ID : 109022802"
   ]
  },
  {
   "cell_type": "markdown",
   "metadata": {},
   "source": [
    "### Reference\n",
    "* Complexity and Criticality, Kim Christensen"
   ]
  },
  {
   "cell_type": "markdown",
   "metadata": {},
   "source": [
    "### Model"
   ]
  },
  {
   "cell_type": "markdown",
   "metadata": {},
   "source": [
    "* Classical Ising Model in 2 D : E = J $\\sum_{<i,j>}S^{z}_{i}S^{z}_{j}$\n"
   ]
  },
  {
   "cell_type": "markdown",
   "metadata": {},
   "source": [
    "### To Calculate"
   ]
  },
  {
   "cell_type": "markdown",
   "metadata": {},
   "source": [
    "* Transfer Matrix\n",
    "* Eigenvalues of Transfer Matrix\n",
    "* Corrlation length $\\xi$=$\\frac{1}{\\log(\\lambda_{0}/\\lambda_{1})}$"
   ]
  },
  {
   "cell_type": "markdown",
   "metadata": {},
   "source": [
    "### Import"
   ]
  },
  {
   "cell_type": "code",
   "execution_count": 41,
   "metadata": {},
   "outputs": [],
   "source": [
    "import os\n",
    "import math\n",
    "import random\n",
    "import cytnx as cy\n",
    "from scipy.optimize import curve_fit\n",
    "import numpy as np\n",
    "import numpy.linalg as la\n",
    "import matplotlib.pyplot as plt"
   ]
  },
  {
   "cell_type": "code",
   "execution_count": 42,
   "metadata": {},
   "outputs": [],
   "source": [
    "## Basic parameter\n",
    "cnames = {                        \n",
    "'blueviolet':           '#8A2BE2',\n",
    "'brown':                '#A52A2A',\n",
    "'burlywood':            '#DEB887',\n",
    "'cadetblue':            '#5F9EA0',\n",
    "'chocolate':            '#D2691E',\n",
    "'crimson':              '#DC143C',\n",
    "'cyan':                 '#00FFFF',\n",
    "'darkblue':             '#00008B',\n",
    "'darkcyan':             '#008B8B',\n",
    "'darkolivegreen':       '#556B2F',\n",
    "'darkorange':           '#FF8C00',\n",
    "'darksalmon':           '#E9967A',\n",
    "'darkseagreen':         '#8FBC8F',\n",
    "'darkslateblue':        '#483D8B',\n",
    "'darkslategray':        '#2F4F4F',\n",
    "'darkturquoise':        '#00CED1',\n",
    "'darkviolet':           '#9400D3',\n",
    "'deeppink':             '#FF1493',\n",
    "'deepskyblue':          '#00BFFF',\n",
    "'dimgray':              '#696969',\n",
    "'dodgerblue':           '#1E90FF',\n",
    "'firebrick':            '#B22222',\n",
    "'floralwhite':          '#FFFAF0',\n",
    "'forestgreen':          '#228B22',\n",
    "'fuchsia':              '#FF00FF',\n",
    "'gainsboro':            '#DCDCDC',\n",
    "'ghostwhite':           '#F8F8FF',\n",
    "'gold':                 '#FFD700',\n",
    "'greenyellow':          '#ADFF2F',\n",
    "'honeydew':             '#F0FFF0',\n",
    "'hotpink':              '#FF69B4',\n",
    "'indianred':            '#CD5C5C',\n",
    "'indigo':               '#4B0082',\n",
    "'ivory':                '#FFFFF0',\n",
    "'khaki':                '#F0E68C',\n",
    "'orangered':            '#FF4500',\n",
    "'orchid':               '#DA70D6'}\n",
    "carr = []\n",
    "for cmap in cnames.keys():                          ## color array\n",
    "    carr.append(cmap)\n",
    "marr = ['o-', 'x-', '^-', 's-', 'p-', '*-', 'h-']   ## marker array"
   ]
  },
  {
   "cell_type": "markdown",
   "metadata": {},
   "source": [
    "## Construct transfer matrix through Tensor Methods"
   ]
  },
  {
   "cell_type": "markdown",
   "metadata": {},
   "source": [
    "### Numpy Method"
   ]
  },
  {
   "cell_type": "markdown",
   "metadata": {},
   "source": [
    "### 設定 M"
   ]
  },
  {
   "cell_type": "code",
   "execution_count": 43,
   "metadata": {},
   "outputs": [],
   "source": [
    "t = 1\n",
    "J = 1\n",
    "beta = 1/t\n",
    "M = np.array([[np.sqrt(math.cosh(beta*J)), np.sqrt(math.sinh(beta*J))],\n",
    "                [np.sqrt(math.cosh(beta*J)),-np.sqrt(math.sinh(beta*J))]])"
   ]
  },
  {
   "cell_type": "markdown",
   "metadata": {},
   "source": [
    "### 用 numpy 把 M 接成 T\n"
   ]
  },
  {
   "cell_type": "markdown",
   "metadata": {},
   "source": [
    "#### $T_{np}$"
   ]
  },
  {
   "cell_type": "code",
   "execution_count": 44,
   "metadata": {},
   "outputs": [
    {
     "name": "stdout",
     "output_type": "stream",
     "text": [
      "T_shape (2, 2, 2, 2)\n",
      "T [[[[4.76219569 0.        ]\n",
      "   [0.         3.62686041]]\n",
      "\n",
      "  [[0.         3.62686041]\n",
      "   [3.62686041 0.        ]]]\n",
      "\n",
      "\n",
      " [[[0.         3.62686041]\n",
      "   [3.62686041 0.        ]]\n",
      "\n",
      "  [[3.62686041 0.        ]\n",
      "   [0.         2.76219569]]]]\n"
     ]
    }
   ],
   "source": [
    "T = np.zeros((2,2,2,2))\n",
    "\n",
    "for i in range(2):\n",
    "    for j in range(2):\n",
    "        for k in range(2):\n",
    "            for l in range(2):\n",
    "                T[i,j,k,l] = np.sum(M[:,i]*M[:,j]*M[:,k]*M[:,l])\n",
    "print(\"T_shape\",np.shape(T))\n",
    "print(\"T\",T)\n",
    "\n",
    "# M[:,0]*M[:,1]逐項相乘"
   ]
  },
  {
   "cell_type": "markdown",
   "metadata": {},
   "source": [
    "#### $T+T=T_{np,y=2}$"
   ]
  },
  {
   "cell_type": "code",
   "execution_count": 45,
   "metadata": {},
   "outputs": [
    {
     "name": "stdout",
     "output_type": "stream",
     "text": [
      "(4, 2, 4, 2)\n",
      "np_TT [[[[22.6785078   0.        ]\n",
      "   [ 0.         13.15411642]\n",
      "   [ 0.         17.27181901]\n",
      "   [13.15411642  0.        ]]\n",
      "\n",
      "  [[ 0.         13.15411642]\n",
      "   [17.27181901  0.        ]\n",
      "   [13.15411642  0.        ]\n",
      "   [ 0.         13.15411642]]]\n",
      "\n",
      "\n",
      " [[[ 0.         13.15411642]\n",
      "   [17.27181901  0.        ]\n",
      "   [13.15411642  0.        ]\n",
      "   [ 0.         13.15411642]]\n",
      "\n",
      "  [[17.27181901  0.        ]\n",
      "   [ 0.         10.01809819]\n",
      "   [ 0.         13.15411642]\n",
      "   [10.01809819  0.        ]]]\n",
      "\n",
      "\n",
      " [[[ 0.         17.27181901]\n",
      "   [13.15411642  0.        ]\n",
      "   [17.27181901  0.        ]\n",
      "   [ 0.         10.01809819]]\n",
      "\n",
      "  [[13.15411642  0.        ]\n",
      "   [ 0.         13.15411642]\n",
      "   [ 0.         10.01809819]\n",
      "   [13.15411642  0.        ]]]\n",
      "\n",
      "\n",
      " [[[13.15411642  0.        ]\n",
      "   [ 0.         13.15411642]\n",
      "   [ 0.         10.01809819]\n",
      "   [13.15411642  0.        ]]\n",
      "\n",
      "  [[ 0.         13.15411642]\n",
      "   [10.01809819  0.        ]\n",
      "   [13.15411642  0.        ]\n",
      "   [ 0.          7.62972504]]]]\n"
     ]
    },
    {
     "data": {
      "text/plain": [
       "(array([ 0.94512664,  0.98168436, 53.59815003, 55.67133903]),\n",
       " array([[-0.60208675, -0.        ,  0.        , -0.79843068],\n",
       "        [ 0.        ,  0.70710678, -0.70710678,  0.        ],\n",
       "        [ 0.        , -0.70710678, -0.70710678,  0.        ],\n",
       "        [ 0.79843068,  0.        ,  0.        , -0.60208675]]))"
      ]
     },
     "execution_count": 45,
     "metadata": {},
     "output_type": "execute_result"
    }
   ],
   "source": [
    "np_TT = np.tensordot(T,T,(1,3))\n",
    "np_TT = np.transpose(np_TT,(0,3,4,1,5,2))\n",
    "np_TT = np_TT.reshape((4,2,4,2))\n",
    "np_TT_trace = np.copy(np.trace(np_TT,axis1 = 1,axis2 =  3))\n",
    "print(np.shape(np_TT))\n",
    "print(\"np_TT\",np_TT)\n",
    "np.linalg.eigh( np.trace(np_TT,axis1 = 1,axis2 =  3) )\n"
   ]
  },
  {
   "cell_type": "markdown",
   "metadata": {},
   "source": [
    "## CYTNX Method"
   ]
  },
  {
   "cell_type": "markdown",
   "metadata": {},
   "source": [
    "### Define function : Print Diagram and Element"
   ]
  },
  {
   "cell_type": "code",
   "execution_count": 46,
   "metadata": {},
   "outputs": [],
   "source": [
    "def ut_print(ut):\n",
    "    ut.print_diagram()\n",
    "    print(ut.get_block().numpy())"
   ]
  },
  {
   "cell_type": "markdown",
   "metadata": {},
   "source": [
    "### Dictionary to store Tensor"
   ]
  },
  {
   "cell_type": "code",
   "execution_count": 47,
   "metadata": {},
   "outputs": [],
   "source": [
    "Uni_T_dic = {}\n",
    "Uni_T_trace_dic = {}\n",
    "EIGVLE_dic = {}"
   ]
  },
  {
   "cell_type": "markdown",
   "metadata": {},
   "source": [
    "#### $T_{cy}$"
   ]
  },
  {
   "cell_type": "code",
   "execution_count": 48,
   "metadata": {},
   "outputs": [
    {
     "name": "stdout",
     "output_type": "stream",
     "text": [
      "-----------------------\n",
      "tensor Name : \n",
      "tensor Rank : 2\n",
      "block_form  : false\n",
      "is_diag     : False\n",
      "on device   : cytnx device: CPU\n",
      "            -------------      \n",
      "           /             \\     \n",
      "     0 ____| 2         2 |____ 1  \n",
      "           \\             /     \n",
      "            -------------      \n",
      "-----------------------\n",
      "tensor Name : \n",
      "tensor Rank : 2\n",
      "block_form  : false\n",
      "is_diag     : False\n",
      "on device   : cytnx device: CPU\n",
      "            -------------      \n",
      "           /             \\     \n",
      "     0 ____| 2         2 |____ 1  \n",
      "           \\             /     \n",
      "            -------------      \n",
      "-----------------------\n",
      "tensor Name : Uni_M_up\n",
      "tensor Rank : 2\n",
      "block_form  : false\n",
      "is_diag     : False\n",
      "on device   : cytnx device: CPU\n",
      "            -------------      \n",
      "           /             \\     \n",
      "     0 ____| 2         2 |____ 1  \n",
      "           \\             /     \n",
      "            -------------      \n",
      "[[ 1.24220797  1.24220797]\n",
      " [ 1.08406697 -1.08406697]]\n",
      "-----------------------\n",
      "tensor Name : Uni_M_left\n",
      "tensor Rank : 2\n",
      "block_form  : false\n",
      "is_diag     : False\n",
      "on device   : cytnx device: CPU\n",
      "            -------------      \n",
      "           /             \\     \n",
      "     0 ____| 2         2 |____ 1  \n",
      "           \\             /     \n",
      "            -------------      \n",
      "[[ 1.24220797  1.24220797]\n",
      " [ 1.08406697 -1.08406697]]\n",
      "-----------------------\n",
      "tensor Name : Uni_M_right\n",
      "tensor Rank : 2\n",
      "block_form  : false\n",
      "is_diag     : False\n",
      "on device   : cytnx device: CPU\n",
      "            -------------      \n",
      "           /             \\     \n",
      "     0 ____| 2         2 |____ 1  \n",
      "           \\             /     \n",
      "            -------------      \n",
      "[[ 1.24220797  1.08406697]\n",
      " [ 1.24220797 -1.08406697]]\n",
      "-----------------------\n",
      "tensor Name : Uni_M_down\n",
      "tensor Rank : 2\n",
      "block_form  : false\n",
      "is_diag     : False\n",
      "on device   : cytnx device: CPU\n",
      "            -------------      \n",
      "           /             \\     \n",
      "     0 ____| 2         2 |____ 1  \n",
      "           \\             /     \n",
      "            -------------      \n",
      "[[ 1.24220797  1.08406697]\n",
      " [ 1.24220797 -1.08406697]]\n",
      "-----------------------\n",
      "tensor Name : UniDelta\n",
      "tensor Rank : 4\n",
      "block_form  : false\n",
      "is_diag     : False\n",
      "on device   : cytnx device: CPU\n",
      "            -------------      \n",
      "           /             \\     \n",
      "     0 ____| 2         2 |____ 2  \n",
      "           |             |     \n",
      "     1 ____| 2         2 |____ 3  \n",
      "           \\             /     \n",
      "            -------------      \n",
      "[[[[1. 0.]\n",
      "   [0. 0.]]\n",
      "\n",
      "  [[0. 0.]\n",
      "   [0. 0.]]]\n",
      "\n",
      "\n",
      " [[[0. 0.]\n",
      "   [0. 0.]]\n",
      "\n",
      "  [[0. 0.]\n",
      "   [0. 1.]]]]\n",
      "==== Network ====\n",
      "[o] mu : 0 ; -1 \n",
      "[o] ml : 1 ; -2 \n",
      "[o] mr : -3 ; 2 \n",
      "[o] md : -4 ; 3 \n",
      "[o] delta : -1 -2 ; -3 -4 \n",
      "TOUT : 0 1 ; 2 3 \n",
      "ORDER : \n",
      "=================\n",
      "\n",
      "-----------------------\n",
      "tensor Name : Uni_T\n",
      "tensor Rank : 4\n",
      "block_form  : false\n",
      "is_diag     : False\n",
      "on device   : cytnx device: CPU\n",
      "            -------------      \n",
      "           /             \\     \n",
      "     0 ____| 2         2 |____ 2  \n",
      "           |             |     \n",
      "     1 ____| 2         2 |____ 3  \n",
      "           \\             /     \n",
      "            -------------      \n",
      "[[[[4.76219569 0.        ]\n",
      "   [0.         3.62686041]]\n",
      "\n",
      "  [[0.         3.62686041]\n",
      "   [3.62686041 0.        ]]]\n",
      "\n",
      "\n",
      " [[[0.         3.62686041]\n",
      "   [3.62686041 0.        ]]\n",
      "\n",
      "  [[3.62686041 0.        ]\n",
      "   [0.         2.76219569]]]]\n"
     ]
    }
   ],
   "source": [
    "t=1\n",
    "m = np.array([[np.sqrt(np.cosh(1/t)),np.sqrt(np.sinh(1/t))],\n",
    "                [np.sqrt(np.cosh(1/t)),-np.sqrt(np.sinh(1/t))]])\n",
    "m_transpose = np.copy(m.transpose())\n",
    "CyT_M = cy.from_numpy(m)\n",
    "Uni_M = cy.UniTensor(CyT_M, rowrank = 1)\n",
    "Uni_M.print_diagram()\n",
    "\n",
    "CyT_M_transpose = cy.from_numpy(m_transpose)\n",
    "Uni_M_transpose = cy.UniTensor(CyT_M_transpose, rowrank = 1)\n",
    "Uni_M_transpose.print_diagram()\n",
    "\n",
    "Uni_M_up = Uni_M_transpose.clone()\n",
    "Uni_M_up.set_name(\"Uni_M_up\")\n",
    "ut_print(Uni_M_up)\n",
    "\n",
    "Uni_M_left = Uni_M_transpose.clone()\n",
    "Uni_M_left.set_name(\"Uni_M_left\")\n",
    "ut_print(Uni_M_left)\n",
    "\n",
    "Uni_M_right = Uni_M.clone()\n",
    "Uni_M_right.set_name(\"Uni_M_right\")\n",
    "ut_print(Uni_M_right)\n",
    "\n",
    "Uni_M_down = Uni_M.clone()\n",
    "Uni_M_down.set_name(\"Uni_M_down\")\n",
    "ut_print(Uni_M_down)\n",
    "\n",
    "delta = np.zeros((2,2,2,2))\n",
    "delta[0,0,0,0] = delta[1,1,1,1] = 1\n",
    "\n",
    "Delta = cy.from_numpy(delta)\n",
    "UniDelta = cy.UniTensor(Delta, rowrank = 2)\n",
    "UniDelta.set_labels([0,1,2,3])\n",
    "UniDelta.set_name(\"UniDelta\")\n",
    "ut_print(UniDelta)\n",
    "\n",
    "M_network = cy.Network(\"network/T.net\")\n",
    "M_network.PutUniTensors(['mu','ml','mr','md','delta'], [Uni_M_up,Uni_M_left,Uni_M_right,Uni_M_down,UniDelta])\n",
    "print(M_network)\n",
    "Uni_T=M_network.Launch()\n",
    "Uni_T.set_name(\"Uni_T\")\n",
    "CyT_T = Uni_T.get_block()\n",
    "ut_print(Uni_T)\n",
    "\n",
    "Uni_T_trace = Uni_T.clone().Trace(0, 3)\n",
    "\n",
    "Uni_T_dic[(1,1)] = Uni_T\n",
    "Uni_T_trace_dic[(1,1)] = Uni_T_trace\n",
    "EIGVLE_dic[(1,1)], v = np.linalg.eigh(Uni_T_trace.get_block().numpy())\n"
   ]
  },
  {
   "cell_type": "markdown",
   "metadata": {},
   "source": [
    "### $T+T=T_{cy,y=2}$"
   ]
  },
  {
   "cell_type": "code",
   "execution_count": 49,
   "metadata": {},
   "outputs": [
    {
     "name": "stdout",
     "output_type": "stream",
     "text": [
      "==== Network ====\n",
      "[x] TU : 0 1 ; 2 -1 \n",
      "[x] TD : -1 10 ; 11 3 \n",
      "TOUT : 0 1 10 ; 2 11 3 \n",
      "ORDER : \n",
      "=================\n",
      "\n",
      "-----------------------\n",
      "tensor Name : Uni_TT\n",
      "tensor Rank : 6\n",
      "block_form  : false\n",
      "is_diag     : False\n",
      "on device   : cytnx device: CPU\n",
      "            -------------      \n",
      "           /             \\     \n",
      "     0 ____| 2         2 |____ 2  \n",
      "           |             |     \n",
      "     1 ____| 2         2 |____ 11 \n",
      "           |             |     \n",
      "    10 ____| 2         2 |____ 3  \n",
      "           \\             /     \n",
      "            -------------      \n",
      "[[[[[[22.6785078   0.        ]\n",
      "     [ 0.         17.27181901]]\n",
      "\n",
      "    [[ 0.         13.15411642]\n",
      "     [13.15411642  0.        ]]]\n",
      "\n",
      "\n",
      "   [[[ 0.         17.27181901]\n",
      "     [17.27181901  0.        ]]\n",
      "\n",
      "    [[13.15411642  0.        ]\n",
      "     [ 0.         10.01809819]]]]\n",
      "\n",
      "\n",
      "\n",
      "  [[[[ 0.         13.15411642]\n",
      "     [13.15411642  0.        ]]\n",
      "\n",
      "    [[17.27181901  0.        ]\n",
      "     [ 0.         13.15411642]]]\n",
      "\n",
      "\n",
      "   [[[13.15411642  0.        ]\n",
      "     [ 0.         10.01809819]]\n",
      "\n",
      "    [[ 0.         13.15411642]\n",
      "     [13.15411642  0.        ]]]]]\n",
      "\n",
      "\n",
      "\n",
      "\n",
      " [[[[[ 0.         13.15411642]\n",
      "     [13.15411642  0.        ]]\n",
      "\n",
      "    [[17.27181901  0.        ]\n",
      "     [ 0.         13.15411642]]]\n",
      "\n",
      "\n",
      "   [[[13.15411642  0.        ]\n",
      "     [ 0.         10.01809819]]\n",
      "\n",
      "    [[ 0.         13.15411642]\n",
      "     [13.15411642  0.        ]]]]\n",
      "\n",
      "\n",
      "\n",
      "  [[[[17.27181901  0.        ]\n",
      "     [ 0.         13.15411642]]\n",
      "\n",
      "    [[ 0.         10.01809819]\n",
      "     [10.01809819  0.        ]]]\n",
      "\n",
      "\n",
      "   [[[ 0.         13.15411642]\n",
      "     [13.15411642  0.        ]]\n",
      "\n",
      "    [[10.01809819  0.        ]\n",
      "     [ 0.          7.62972504]]]]]]\n",
      "-----------------------\n",
      "tensor Name : Uni_TT\n",
      "tensor Rank : 4\n",
      "block_form  : false\n",
      "is_diag     : False\n",
      "on device   : cytnx device: CPU\n",
      "            -------------      \n",
      "           /             \\     \n",
      "     0 ____| 2         4 |____ 2  \n",
      "           |             |     \n",
      "     1 ____| 4         2 |____ 3  \n",
      "           \\             /     \n",
      "            -------------      \n",
      "[[[[22.6785078   0.        ]\n",
      "   [ 0.         17.27181901]\n",
      "   [ 0.         13.15411642]\n",
      "   [13.15411642  0.        ]]\n",
      "\n",
      "  [[ 0.         17.27181901]\n",
      "   [17.27181901  0.        ]\n",
      "   [13.15411642  0.        ]\n",
      "   [ 0.         10.01809819]]\n",
      "\n",
      "  [[ 0.         13.15411642]\n",
      "   [13.15411642  0.        ]\n",
      "   [17.27181901  0.        ]\n",
      "   [ 0.         13.15411642]]\n",
      "\n",
      "  [[13.15411642  0.        ]\n",
      "   [ 0.         10.01809819]\n",
      "   [ 0.         13.15411642]\n",
      "   [13.15411642  0.        ]]]\n",
      "\n",
      "\n",
      " [[[ 0.         13.15411642]\n",
      "   [13.15411642  0.        ]\n",
      "   [17.27181901  0.        ]\n",
      "   [ 0.         13.15411642]]\n",
      "\n",
      "  [[13.15411642  0.        ]\n",
      "   [ 0.         10.01809819]\n",
      "   [ 0.         13.15411642]\n",
      "   [13.15411642  0.        ]]\n",
      "\n",
      "  [[17.27181901  0.        ]\n",
      "   [ 0.         13.15411642]\n",
      "   [ 0.         10.01809819]\n",
      "   [10.01809819  0.        ]]\n",
      "\n",
      "  [[ 0.         13.15411642]\n",
      "   [13.15411642  0.        ]\n",
      "   [10.01809819  0.        ]\n",
      "   [ 0.          7.62972504]]]]\n",
      "-----------------------\n",
      "tensor Name : Uni_TT\n",
      "tensor Rank : 2\n",
      "block_form  : false\n",
      "is_diag     : False\n",
      "on device   : cytnx device: CPU\n",
      "            -------------      \n",
      "           /             \\     \n",
      "     1 ____| 4         4 |____ 2  \n",
      "           \\             /     \n",
      "            -------------      \n",
      "[[35.83262422  0.          0.         26.30823284]\n",
      " [ 0.         27.2899172  26.30823284  0.        ]\n",
      " [ 0.         26.30823284 27.2899172   0.        ]\n",
      " [26.30823284  0.          0.         20.78384145]]\n",
      "-----------------------\n",
      "tensor Name : Uni_TT\n",
      "tensor Rank : 2\n",
      "block_form  : false\n",
      "is_diag     : False\n",
      "on device   : cytnx device: CPU\n",
      "            -------------      \n",
      "           /             \\     \n",
      "     0 ____| 4         4 |____ 1  \n",
      "           \\             /     \n",
      "            -------------      \n",
      "[[35.83262422  0.          0.         26.30823284]\n",
      " [ 0.         27.2899172  26.30823284  0.        ]\n",
      " [ 0.         26.30823284 27.2899172   0.        ]\n",
      " [26.30823284  0.          0.         20.78384145]]\n"
     ]
    }
   ],
   "source": [
    "Ymerge_network = cy.Network(\"network/Ymerge.net\")\n",
    "print(Ymerge_network)\n",
    "\n",
    "TU =  Uni_T.clone()\n",
    "TD =  Uni_T.clone()\n",
    "\n",
    "\n",
    "Ymerge_network.PutUniTensors(['TU','TD'], [TU,TD])\n",
    "Uni_Ty2=Ymerge_network.Launch()\n",
    "Uni_Ty2.set_name(\"Uni_TT\")\n",
    "ut_print(Uni_Ty2)\n",
    "\n",
    "Uni_Ty2.combineBonds([1,10])\n",
    "Uni_Ty2.combineBonds([2,11])\n",
    "ut_print(Uni_Ty2)\n",
    "\n",
    "Uni_Ty2_trace = Uni_Ty2.clone().Trace(0, 3)\n",
    "ut_print(Uni_Ty2_trace)\n",
    "Uni_Ty2_trace.set_labels([0,1])\n",
    "ut_print(Uni_Ty2_trace)\n",
    "\n",
    "Uni_T_dic[(1,2)] = Uni_Ty2\n",
    "Uni_T_trace_dic[(1,2)] = Uni_Ty2_trace\n",
    "EIGVLE_dic[(1,2)], v = np.linalg.eigh(Uni_Ty2_trace.get_block().numpy())\n"
   ]
  },
  {
   "cell_type": "markdown",
   "metadata": {},
   "source": [
    "## 比較 numpy 跟 Cytnx 的結果"
   ]
  },
  {
   "cell_type": "markdown",
   "metadata": {},
   "source": [
    "### Elements Comparison : $T_{np}$ vs $T_{cy}$"
   ]
  },
  {
   "cell_type": "code",
   "execution_count": 50,
   "metadata": {},
   "outputs": [
    {
     "name": "stdout",
     "output_type": "stream",
     "text": [
      "Numpy Method\n",
      " [[[[4.76219569 0.        ]\n",
      "   [0.         3.62686041]]\n",
      "\n",
      "  [[0.         3.62686041]\n",
      "   [3.62686041 0.        ]]]\n",
      "\n",
      "\n",
      " [[[0.         3.62686041]\n",
      "   [3.62686041 0.        ]]\n",
      "\n",
      "  [[3.62686041 0.        ]\n",
      "   [0.         2.76219569]]]]\n",
      "Cytnx Method\n",
      " [[[[4.76219569 0.        ]\n",
      "   [0.         3.62686041]]\n",
      "\n",
      "  [[0.         3.62686041]\n",
      "   [3.62686041 0.        ]]]\n",
      "\n",
      "\n",
      " [[[0.         3.62686041]\n",
      "   [3.62686041 0.        ]]\n",
      "\n",
      "  [[3.62686041 0.        ]\n",
      "   [0.         2.76219569]]]]\n"
     ]
    }
   ],
   "source": [
    "print(\"Numpy Method\\n\",T)\n",
    "print(\"Cytnx Method\\n\",Uni_T.get_block().numpy())"
   ]
  },
  {
   "cell_type": "markdown",
   "metadata": {},
   "source": [
    "### Elements Comparison : $T_{np,Ytrace}$ vs $T_{cy,Ytrace}$"
   ]
  },
  {
   "cell_type": "code",
   "execution_count": 51,
   "metadata": {},
   "outputs": [
    {
     "name": "stdout",
     "output_type": "stream",
     "text": [
      "[[8.3890561 0.       ]\n",
      " [0.        6.3890561]]\n"
     ]
    }
   ],
   "source": [
    "print(np.trace(T,axis1 = 1,axis2 =  3))"
   ]
  },
  {
   "cell_type": "code",
   "execution_count": 52,
   "metadata": {},
   "outputs": [
    {
     "name": "stdout",
     "output_type": "stream",
     "text": [
      "-----------------------\n",
      "tensor Name : Uni_T\n",
      "tensor Rank : 2\n",
      "block_form  : false\n",
      "is_diag     : False\n",
      "on device   : cytnx device: CPU\n",
      "            -------------      \n",
      "           /             \\     \n",
      "     1 ____| 2         2 |____ 2  \n",
      "           \\             /     \n",
      "            -------------      \n",
      "[[8.3890561 0.       ]\n",
      " [0.        6.3890561]]\n"
     ]
    }
   ],
   "source": [
    "ut_print(Uni_T_trace)"
   ]
  },
  {
   "cell_type": "markdown",
   "metadata": {},
   "source": [
    "### Eigvalue Comparison : $T_{np,Ytrace}$ vs $T_{cy,Ytrace}$"
   ]
  },
  {
   "cell_type": "code",
   "execution_count": 53,
   "metadata": {},
   "outputs": [
    {
     "data": {
      "text/plain": [
       "(array([6.3890561, 8.3890561]),\n",
       " array([[0., 1.],\n",
       "        [1., 0.]]))"
      ]
     },
     "execution_count": 53,
     "metadata": {},
     "output_type": "execute_result"
    }
   ],
   "source": [
    "np.linalg.eigh( np.trace(T,axis1 = 1,axis2 =  3) )"
   ]
  },
  {
   "cell_type": "code",
   "execution_count": 54,
   "metadata": {},
   "outputs": [
    {
     "data": {
      "text/plain": [
       "(array([6.3890561, 8.3890561]),\n",
       " array([[0., 1.],\n",
       "        [1., 0.]]))"
      ]
     },
     "execution_count": 54,
     "metadata": {},
     "output_type": "execute_result"
    }
   ],
   "source": [
    "np.linalg.eigh(Uni_T_trace.get_block().numpy())"
   ]
  },
  {
   "cell_type": "markdown",
   "metadata": {},
   "source": [
    "### Elements Comparison : $T_{np,y=2}$ vs $T_{cy,y=2}$"
   ]
  },
  {
   "cell_type": "code",
   "execution_count": 55,
   "metadata": {},
   "outputs": [
    {
     "name": "stdout",
     "output_type": "stream",
     "text": [
      "np_TT\n",
      "\n",
      "[[[[22.6785078   0.        ]\n",
      "   [ 0.         13.15411642]\n",
      "   [ 0.         17.27181901]\n",
      "   [13.15411642  0.        ]]\n",
      "\n",
      "  [[ 0.         13.15411642]\n",
      "   [17.27181901  0.        ]\n",
      "   [13.15411642  0.        ]\n",
      "   [ 0.         13.15411642]]]\n",
      "\n",
      "\n",
      " [[[ 0.         13.15411642]\n",
      "   [17.27181901  0.        ]\n",
      "   [13.15411642  0.        ]\n",
      "   [ 0.         13.15411642]]\n",
      "\n",
      "  [[17.27181901  0.        ]\n",
      "   [ 0.         10.01809819]\n",
      "   [ 0.         13.15411642]\n",
      "   [10.01809819  0.        ]]]\n",
      "\n",
      "\n",
      " [[[ 0.         17.27181901]\n",
      "   [13.15411642  0.        ]\n",
      "   [17.27181901  0.        ]\n",
      "   [ 0.         10.01809819]]\n",
      "\n",
      "  [[13.15411642  0.        ]\n",
      "   [ 0.         13.15411642]\n",
      "   [ 0.         10.01809819]\n",
      "   [13.15411642  0.        ]]]\n",
      "\n",
      "\n",
      " [[[13.15411642  0.        ]\n",
      "   [ 0.         13.15411642]\n",
      "   [ 0.         10.01809819]\n",
      "   [13.15411642  0.        ]]\n",
      "\n",
      "  [[ 0.         13.15411642]\n",
      "   [10.01809819  0.        ]\n",
      "   [13.15411642  0.        ]\n",
      "   [ 0.          7.62972504]]]]\n"
     ]
    }
   ],
   "source": [
    "print(\"np_TT\\n\")\n",
    "print(np_TT)"
   ]
  },
  {
   "cell_type": "code",
   "execution_count": 56,
   "metadata": {},
   "outputs": [
    {
     "name": "stdout",
     "output_type": "stream",
     "text": [
      "Uni_Ty2 get_block\n",
      "\n",
      "[[[[22.6785078   0.        ]\n",
      "   [ 0.         17.27181901]\n",
      "   [ 0.         13.15411642]\n",
      "   [13.15411642  0.        ]]\n",
      "\n",
      "  [[ 0.         17.27181901]\n",
      "   [17.27181901  0.        ]\n",
      "   [13.15411642  0.        ]\n",
      "   [ 0.         10.01809819]]\n",
      "\n",
      "  [[ 0.         13.15411642]\n",
      "   [13.15411642  0.        ]\n",
      "   [17.27181901  0.        ]\n",
      "   [ 0.         13.15411642]]\n",
      "\n",
      "  [[13.15411642  0.        ]\n",
      "   [ 0.         10.01809819]\n",
      "   [ 0.         13.15411642]\n",
      "   [13.15411642  0.        ]]]\n",
      "\n",
      "\n",
      " [[[ 0.         13.15411642]\n",
      "   [13.15411642  0.        ]\n",
      "   [17.27181901  0.        ]\n",
      "   [ 0.         13.15411642]]\n",
      "\n",
      "  [[13.15411642  0.        ]\n",
      "   [ 0.         10.01809819]\n",
      "   [ 0.         13.15411642]\n",
      "   [13.15411642  0.        ]]\n",
      "\n",
      "  [[17.27181901  0.        ]\n",
      "   [ 0.         13.15411642]\n",
      "   [ 0.         10.01809819]\n",
      "   [10.01809819  0.        ]]\n",
      "\n",
      "  [[ 0.         13.15411642]\n",
      "   [13.15411642  0.        ]\n",
      "   [10.01809819  0.        ]\n",
      "   [ 0.          7.62972504]]]]\n"
     ]
    }
   ],
   "source": [
    "print(\"Uni_Ty2 get_block\\n\")\n",
    "print(Uni_Ty2.get_block().numpy())"
   ]
  },
  {
   "cell_type": "markdown",
   "metadata": {},
   "source": [
    "### Elements Comparison $T_{np,y=2,Ytrace}$ vs $T_{cy,y=2,Ytrace}$"
   ]
  },
  {
   "cell_type": "code",
   "execution_count": 57,
   "metadata": {},
   "outputs": [
    {
     "name": "stdout",
     "output_type": "stream",
     "text": [
      "[[35.83262422  0.          0.         26.30823284]\n",
      " [ 0.         27.2899172  26.30823284  0.        ]\n",
      " [ 0.         26.30823284 27.2899172   0.        ]\n",
      " [26.30823284  0.          0.         20.78384145]]\n"
     ]
    }
   ],
   "source": [
    "print(np_TT_trace)"
   ]
  },
  {
   "cell_type": "code",
   "execution_count": 58,
   "metadata": {},
   "outputs": [
    {
     "name": "stdout",
     "output_type": "stream",
     "text": [
      "-----------------------\n",
      "tensor Name : Uni_TT\n",
      "tensor Rank : 2\n",
      "block_form  : false\n",
      "is_diag     : False\n",
      "on device   : cytnx device: CPU\n",
      "            -------------      \n",
      "           /             \\     \n",
      "     0 ____| 4         4 |____ 1  \n",
      "           \\             /     \n",
      "            -------------      \n",
      "[[35.83262422  0.          0.         26.30823284]\n",
      " [ 0.         27.2899172  26.30823284  0.        ]\n",
      " [ 0.         26.30823284 27.2899172   0.        ]\n",
      " [26.30823284  0.          0.         20.78384145]]\n"
     ]
    }
   ],
   "source": [
    "ut_print(Uni_Ty2_trace)"
   ]
  },
  {
   "cell_type": "markdown",
   "metadata": {},
   "source": [
    "### Eigvalue Comparison $T_{np,y=2,Ytrace}$ vs $T_{cy,y=2,Ytrace}$"
   ]
  },
  {
   "cell_type": "code",
   "execution_count": 59,
   "metadata": {},
   "outputs": [
    {
     "name": "stdout",
     "output_type": "stream",
     "text": [
      "eigh check of np_TT\n",
      "\n"
     ]
    },
    {
     "data": {
      "text/plain": [
       "(array([ 0.94512664,  0.98168436, 53.59815003, 55.67133903]),\n",
       " array([[-0.60208675, -0.        ,  0.        , -0.79843068],\n",
       "        [ 0.        ,  0.70710678, -0.70710678,  0.        ],\n",
       "        [ 0.        , -0.70710678, -0.70710678,  0.        ],\n",
       "        [ 0.79843068,  0.        ,  0.        , -0.60208675]]))"
      ]
     },
     "execution_count": 59,
     "metadata": {},
     "output_type": "execute_result"
    }
   ],
   "source": [
    "print(\"eigh check of np_TT\\n\")\n",
    "np.linalg.eigh( np_TT_trace )"
   ]
  },
  {
   "cell_type": "code",
   "execution_count": 60,
   "metadata": {},
   "outputs": [
    {
     "name": "stdout",
     "output_type": "stream",
     "text": [
      "eigh check of Uni_TT_trace\n",
      "\n"
     ]
    },
    {
     "data": {
      "text/plain": [
       "(array([ 0.94512664,  0.98168436, 53.59815003, 55.67133903]),\n",
       " array([[-0.60208675, -0.        ,  0.        , -0.79843068],\n",
       "        [ 0.        ,  0.70710678, -0.70710678,  0.        ],\n",
       "        [ 0.        , -0.70710678, -0.70710678,  0.        ],\n",
       "        [ 0.79843068,  0.        ,  0.        , -0.60208675]]))"
      ]
     },
     "execution_count": 60,
     "metadata": {},
     "output_type": "execute_result"
    }
   ],
   "source": [
    "print(\"eigh check of Uni_TT_trace\\n\")\n",
    "np.linalg.eigh(Uni_Ty2_trace.get_block().numpy())"
   ]
  },
  {
   "cell_type": "markdown",
   "metadata": {},
   "source": [
    "## Try to contract x direction ( cytnx only )"
   ]
  },
  {
   "cell_type": "markdown",
   "metadata": {},
   "source": [
    "### $T_{y=2} + T_{y=2} = T_{x=2,y=2}$"
   ]
  },
  {
   "cell_type": "code",
   "execution_count": 61,
   "metadata": {},
   "outputs": [
    {
     "name": "stdout",
     "output_type": "stream",
     "text": [
      "-----------------------\n",
      "tensor Name : \n",
      "tensor Rank : 4\n",
      "block_form  : false\n",
      "is_diag     : False\n",
      "on device   : cytnx device: CPU\n",
      "            -------------      \n",
      "           /             \\     \n",
      "     0 ____| 4         4 |____ 2  \n",
      "           |             |     \n",
      "     1 ____| 4         4 |____ 3  \n",
      "           \\             /     \n",
      "            -------------      \n",
      "[[[[687.34549478   0.           0.         471.34651053]\n",
      "   [  0.         523.47831195 471.34651053   0.        ]\n",
      "   [  0.         471.34651053 454.39103592   0.        ]\n",
      "   [471.34651053   0.           0.         346.06155748]]\n",
      "\n",
      "  [[  0.         471.34651053 523.47831195   0.        ]\n",
      "   [471.34651053   0.           0.         398.67802315]\n",
      "   [454.39103592   0.           0.         358.97474785]\n",
      "   [  0.         346.06155748 358.97474785   0.        ]]\n",
      "\n",
      "  [[  0.         454.39103592 471.34651053   0.        ]\n",
      "   [454.39103592   0.           0.         358.97474785]\n",
      "   [471.34651053   0.           0.         346.06155748]\n",
      "   [  0.         358.97474785 346.06155748   0.        ]]\n",
      "\n",
      "  [[471.34651053   0.           0.         346.06155748]\n",
      "   [  0.         358.97474785 346.06155748   0.        ]\n",
      "   [  0.         346.06155748 358.97474785   0.        ]\n",
      "   [346.06155748   0.           0.         273.3930701 ]]]\n",
      "\n",
      "\n",
      " [[[  0.         471.34651053 454.39103592   0.        ]\n",
      "   [471.34651053   0.           0.         346.06155748]\n",
      "   [523.47831195   0.           0.         358.97474785]\n",
      "   [  0.         398.67802315 358.97474785   0.        ]]\n",
      "\n",
      "  [[454.39103592   0.           0.         358.97474785]\n",
      "   [  0.         346.06155748 358.97474785   0.        ]\n",
      "   [  0.         358.97474785 398.67802315   0.        ]\n",
      "   [358.97474785   0.           0.         303.63085254]]\n",
      "\n",
      "  [[471.34651053   0.           0.         346.06155748]\n",
      "   [  0.         358.97474785 346.06155748   0.        ]\n",
      "   [  0.         346.06155748 358.97474785   0.        ]\n",
      "   [346.06155748   0.           0.         273.3930701 ]]\n",
      "\n",
      "  [[  0.         346.06155748 358.97474785   0.        ]\n",
      "   [346.06155748   0.           0.         273.3930701 ]\n",
      "   [358.97474785   0.           0.         263.55845978]\n",
      "   [  0.         273.3930701  263.55845978   0.        ]]]\n",
      "\n",
      "\n",
      " [[[  0.         454.39103592 471.34651053   0.        ]\n",
      "   [454.39103592   0.           0.         358.97474785]\n",
      "   [471.34651053   0.           0.         346.06155748]\n",
      "   [  0.         358.97474785 346.06155748   0.        ]]\n",
      "\n",
      "  [[471.34651053   0.           0.         346.06155748]\n",
      "   [  0.         358.97474785 346.06155748   0.        ]\n",
      "   [  0.         346.06155748 358.97474785   0.        ]\n",
      "   [346.06155748   0.           0.         273.3930701 ]]\n",
      "\n",
      "  [[523.47831195   0.           0.         358.97474785]\n",
      "   [  0.         398.67802315 358.97474785   0.        ]\n",
      "   [  0.         358.97474785 346.06155748   0.        ]\n",
      "   [358.97474785   0.           0.         263.55845978]]\n",
      "\n",
      "  [[  0.         358.97474785 398.67802315   0.        ]\n",
      "   [358.97474785   0.           0.         303.63085254]\n",
      "   [346.06155748   0.           0.         273.3930701 ]\n",
      "   [  0.         263.55845978 273.3930701    0.        ]]]\n",
      "\n",
      "\n",
      " [[[471.34651053   0.           0.         346.06155748]\n",
      "   [  0.         358.97474785 346.06155748   0.        ]\n",
      "   [  0.         346.06155748 358.97474785   0.        ]\n",
      "   [346.06155748   0.           0.         273.3930701 ]]\n",
      "\n",
      "  [[  0.         346.06155748 358.97474785   0.        ]\n",
      "   [346.06155748   0.           0.         273.3930701 ]\n",
      "   [358.97474785   0.           0.         263.55845978]\n",
      "   [  0.         273.3930701  263.55845978   0.        ]]\n",
      "\n",
      "  [[  0.         358.97474785 346.06155748   0.        ]\n",
      "   [358.97474785   0.           0.         263.55845978]\n",
      "   [398.67802315   0.           0.         273.3930701 ]\n",
      "   [  0.         303.63085254 273.3930701    0.        ]]\n",
      "\n",
      "  [[346.06155748   0.           0.         273.3930701 ]\n",
      "   [  0.         263.55845978 273.3930701    0.        ]\n",
      "   [  0.         273.3930701  303.63085254   0.        ]\n",
      "   [273.3930701    0.           0.         231.24348286]]]]\n"
     ]
    }
   ],
   "source": [
    "Uni_TL = Uni_Ty2.clone()\n",
    "Uni_TR = Uni_Ty2.clone()\n",
    "\n",
    "Xmerge = cy.Network(\"network/Xmerge.net\")\n",
    "Xmerge.PutUniTensors(['TL','TR'], [Uni_TL,Uni_TR])\n",
    "\n",
    "Uni_Tx2y2 = Xmerge.Launch()\n",
    "Uni_Tx2y2.combineBonds([0,4])\n",
    "Uni_Tx2y2.combineBonds([3,5])\n",
    "ut_print(Uni_Tx2y2)\n",
    "Uni_Tx2y2_trace = Uni_Tx2y2.clone().Trace(0,3)\n",
    "EIGVLE_Tx2y2_trace, v = np.linalg.eigh(Uni_Tx2y2_trace.get_block().numpy())\n",
    "\n",
    "Uni_T_dic[(2,2)] = Uni_Tx2y2\n",
    "Uni_T_trace_dic[(2,2)] = EIGVLE_Tx2y2_trace\n",
    "EIGVLE_dic[(2,2)] = EIGVLE_Tx2y2_trace\n",
    "\n"
   ]
  },
  {
   "cell_type": "markdown",
   "metadata": {},
   "source": [
    "### Compare eigenvalues of $T_{x=2,y=2}$ $T_{x=1,y=2}$ and $T_{x=1,y=1}$"
   ]
  },
  {
   "cell_type": "code",
   "execution_count": 62,
   "metadata": {},
   "outputs": [
    {
     "data": {
      "text/plain": [
       "array([6.3890561, 8.3890561])"
      ]
     },
     "execution_count": 62,
     "metadata": {},
     "output_type": "execute_result"
    }
   ],
   "source": [
    "EIGVLE_dic[(1,1)]"
   ]
  },
  {
   "cell_type": "code",
   "execution_count": 63,
   "metadata": {},
   "outputs": [
    {
     "data": {
      "text/plain": [
       "array([ 0.94512664,  0.98168436, 53.59815003, 55.67133903])"
      ]
     },
     "execution_count": 63,
     "metadata": {},
     "output_type": "execute_result"
    }
   ],
   "source": [
    "EIGVLE_dic[(1,2)]"
   ]
  },
  {
   "cell_type": "code",
   "execution_count": 64,
   "metadata": {},
   "outputs": [
    {
     "name": "stdout",
     "output_type": "stream",
     "text": [
      "EIGVLE_dic[(1,2)]**2 [8.93264368e-01 9.63704185e-01 2.87276169e+03 3.09929799e+03]\n"
     ]
    }
   ],
   "source": [
    "print(\"EIGVLE_dic[(1,2)]**2\",EIGVLE_dic[(1,2)]**2)\n",
    "# EIGVLE_dic[(1,2)]**2"
   ]
  },
  {
   "cell_type": "code",
   "execution_count": 65,
   "metadata": {},
   "outputs": [
    {
     "name": "stdout",
     "output_type": "stream",
     "text": [
      "EIGVLE_dic[(2,2)] [8.93264368e-01 9.63704185e-01 2.87276169e+03 3.09929799e+03]\n"
     ]
    }
   ],
   "source": [
    "print(\"EIGVLE_dic[(2,2)]\",EIGVLE_dic[(2,2)])\n",
    "# EIGVLE_dic[(2,2)]"
   ]
  }
 ],
 "metadata": {
  "interpreter": {
   "hash": "f07da4dd2c5e6e6ee9947978191292ef7f1ff9a47d8821a5a9bd78557845d769"
  },
  "kernelspec": {
   "display_name": "Python 3.9.13 ('cytnx': conda)",
   "language": "python",
   "name": "python3"
  },
  "language_info": {
   "codemirror_mode": {
    "name": "ipython",
    "version": 3
   },
   "file_extension": ".py",
   "mimetype": "text/x-python",
   "name": "python",
   "nbconvert_exporter": "python",
   "pygments_lexer": "ipython3",
   "version": "3.8.13"
  },
  "orig_nbformat": 4
 },
 "nbformat": 4,
 "nbformat_minor": 2
}
