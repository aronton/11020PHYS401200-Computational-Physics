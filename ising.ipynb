{
 "cells": [
  {
   "cell_type": "code",
   "execution_count": 2,
   "metadata": {},
   "outputs": [],
   "source": [
    "import os\n",
    "import math\n",
    "import pandas as pd\n",
    "import random\n",
    "import numpy as np\n",
    "import matplotlib.pyplot as plt\n",
    "from scipy.optimize import curve_fit"
   ]
  },
  {
   "cell_type": "code",
   "execution_count": null,
   "metadata": {},
   "outputs": [],
   "source": [
    "def E( j, beta, S1, S2, S3, S4 ):\n",
    "    return beta*j*(S1*S2 + S2*S3 + S3*S4 + S1*S4)\n"
   ]
  },
  {
   "cell_type": "code",
   "execution_count": 12,
   "metadata": {},
   "outputs": [],
   "source": [
    "def E( j, L ):\n",
    "    energy = 0\n",
    "    return energy\n",
    "\n",
    "\n",
    "def Z( j, L, beta ):\n",
    "    partition = 0\n",
    "    spinList = np.zeros((2,2*L))\n",
    "    for k in range(L):\n",
    "        spinList[0,k] = 1\n",
    "        spinList[1,k] = -1 \n",
    "    for i in range(2):\n",
    "        for k in range(L-1):\n",
    "            partition = partition + math.exp(-j*beta*(spinList[i,k]*spinList[i,k + 1]))\n",
    "        partition = partition + math.exp(-j*beta*(spinList[i,0]*spinList[i,L]))\n",
    "    return partition"
   ]
  },
  {
   "cell_type": "code",
   "execution_count": 13,
   "metadata": {},
   "outputs": [
    {
     "data": {
      "text/plain": [
       "4.207276647028654"
      ]
     },
     "execution_count": 13,
     "metadata": {},
     "output_type": "execute_result"
    }
   ],
   "source": [
    "Z(1, 4, 1)"
   ]
  },
  {
   "cell_type": "code",
   "execution_count": null,
   "metadata": {},
   "outputs": [],
   "source": []
  }
 ],
 "metadata": {
  "interpreter": {
   "hash": "224713fa5df5479744c4ffa78a24289bd058189636cbe307ab5ab559d78c6ae6"
  },
  "kernelspec": {
   "display_name": "Python 3.8.8 ('base': conda)",
   "language": "python",
   "name": "python3"
  },
  "language_info": {
   "codemirror_mode": {
    "name": "ipython",
    "version": 3
   },
   "file_extension": ".py",
   "mimetype": "text/x-python",
   "name": "python",
   "nbconvert_exporter": "python",
   "pygments_lexer": "ipython3",
   "version": "3.8.8"
  },
  "orig_nbformat": 4
 },
 "nbformat": 4,
 "nbformat_minor": 2
}
