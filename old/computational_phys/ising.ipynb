{
 "cells": [
  {
   "cell_type": "code",
   "execution_count": 1,
   "metadata": {},
   "outputs": [],
   "source": [
    "import os\n",
    "import math\n",
    "import pandas as pd\n",
    "import random\n",
    "import numpy as np\n",
    "import matplotlib.pyplot as plt\n",
    "from scipy.optimize import curve_fit"
   ]
  },
  {
   "cell_type": "code",
   "execution_count": null,
   "metadata": {},
   "outputs": [],
   "source": [
    "def E( j, beta, S1, S2, S3, S4 ):\n",
    "    return beta*j*(S1*S2 + S2*S3 + S3*S4 + S1*S4)\n"
   ]
  },
  {
   "cell_type": "code",
   "execution_count": 12,
   "metadata": {},
   "outputs": [],
   "source": [
    "def E( j, L ):\n",
    "    energy = 0\n",
    "    return energy\n",
    "\n",
    "\n",
    "def Z( j, L, beta ):\n",
    "    partition = 0\n",
    "    spinList = np.zeros((2,2*L))\n",
    "    for k in range(L):\n",
    "        spinList[0,k] = 1\n",
    "        spinList[1,k] = -1 \n",
    "    for i in range(2):\n",
    "        for k in range(L-1):\n",
    "            partition = partition + math.exp(-j*beta*(spinList[i,k]*spinList[i,k + 1]))\n",
    "        partition = partition + math.exp(-j*beta*(spinList[i,0]*spinList[i,L]))\n",
    "    return partition"
   ]
  },
  {
   "cell_type": "code",
   "execution_count": 13,
   "metadata": {},
   "outputs": [
    {
     "data": {
      "text/plain": [
       "4.207276647028654"
      ]
     },
     "execution_count": 13,
     "metadata": {},
     "output_type": "execute_result"
    }
   ],
   "source": [
    "Z(1, 4, 1)"
   ]
  },
  {
   "cell_type": "code",
   "execution_count": 2,
   "metadata": {},
   "outputs": [],
   "source": [
    "def lamda_p(temperature, J, B):\n",
    "    beta = 1/temperature\n",
    "    return math.exp(beta*J)*( math.cosh(beta*B) + math.sqrt((math.sinh(beta*B))**2 + math.exp(-4*beta*J)) )\n",
    "def lamda_n(temperature, J, B):\n",
    "    beta = 1/temperature\n",
    "    return math.exp(beta*J)*( math.cosh(beta*B) - math.sqrt((math.sinh(beta*B))**2 + math.exp(-4*beta*J)) )\n",
    "def T(temperature, J, B):\n",
    "    beta = 1/temperature\n",
    "    return np.array([[math.exp(beta*(J+B)),math.exp(-beta*(J))],[math.exp(-beta*(J)),math.exp(beta*(J-B))]])"
   ]
  },
  {
   "cell_type": "code",
   "execution_count": 3,
   "metadata": {},
   "outputs": [
    {
     "data": {
      "text/plain": [
       "[]"
      ]
     },
     "execution_count": 3,
     "metadata": {},
     "output_type": "execute_result"
    },
    {
     "data": {
      "image/png": "[encoded data removed]",
      "text/plain": [
       "<Figure size 432x288 with 1 Axes>"
      ]
     },
     "metadata": {
      "needs_background": "light"
     },
     "output_type": "display_data"
    }
   ],
   "source": [
    "temperature = np.linspace(0.5,10,100)\n",
    "y=[lamda_p(i, 1, 0) for i in temperature]\n",
    "plt.plot(temperature, y, label = \"+\")\n",
    "plt.title(\"lamda vs t\")\n",
    "y=[lamda_n(i, 1, 0) for i in temperature]\n",
    "plt.plot(temperature, y, label = \"-\")\n",
    "plt.legend(loc=\"best\")\n",
    "plt.xlabel(\"t\")\n",
    "plt.ylabel(\"lamda\")\n",
    "plt.loglog()"
   ]
  },
  {
   "cell_type": "code",
   "execution_count": 17,
   "metadata": {},
   "outputs": [
    {
     "data": {
      "text/plain": [
       "[]"
      ]
     },
     "execution_count": 17,
     "metadata": {},
     "output_type": "execute_result"
    },
    {
     "data": {
      "image/png": "[encoded data removed]",
      "text/plain": [
       "<Figure size 432x288 with 1 Axes>"
      ]
     },
     "metadata": {
      "needs_background": "light"
     },
     "output_type": "display_data"
    }
   ],
   "source": [
    "temperature = np.linspace(0.5,10,100)\n",
    "y=[ np.linalg.eigvals(T(i,1,0))[0] for i in temperature]\n",
    "plt.plot(temperature, y, label = \"+\")\n",
    "plt.title(\"lamda vs t\")\n",
    "y=[ np.linalg.eigvals(T(i,1,0))[1]for i in temperature]\n",
    "plt.plot(temperature, y, label = \"-\")\n",
    "plt.xlabel(\"t\")\n",
    "plt.ylabel(\"lamda\")\n",
    "plt.legend(loc=\"best\")\n",
    "plt.loglog()"
   ]
  },
  {
   "cell_type": "code",
   "execution_count": 14,
   "metadata": {},
   "outputs": [],
   "source": [
    "def twoD(temperature, J, B):\n",
    "    beta = 1/temperature\n",
    "    \n",
    "    V1 = np.zeros((4,4))\n",
    "\n",
    "    V1[0,0] = math.exp( 4*beta*J + 2*beta*B )\n",
    "    V1[0,1] = math.exp( beta*B )\n",
    "    V1[0,2] = math.exp( beta*B )\n",
    "    V1[0,3] = 1\n",
    "    V1[1,0] = math.exp( beta*B )\n",
    "    V1[1,1] = 1\n",
    "    V1[1,2] = math.exp( -4*beta*J)\n",
    "    V1[1,3] = math.exp( -beta*B )\n",
    "    V1[2,0] = math.exp( beta*B )\n",
    "    V1[2,1] = math.exp( -4*beta*J)\n",
    "    V1[2,2] = 1\n",
    "    V1[2,3] = math.exp( -beta*B )\n",
    "    V1[3,0] = 1\n",
    "    V1[3,1] = math.exp( -beta*B )\n",
    "    V1[3,2] = math.exp( -beta*B )\n",
    "    V1[3,3] = math.exp( 4*beta*J - 2*beta*B )\n",
    "    return V1\n",
    "    \"\"\"\n",
    "    return np.array(\n",
    "        [[math.exp(2*B*(1/temperature)+6*(1/temperature)*J),math.exp(B*(1/temperature)),math.exp(B*(1/temperature)),math.exp(2*J*(1/temperature))],\n",
    "         [math.exp(B*(1/temperature)), math.exp(-2*J*(1/temperature)), math.exp(-6*J*(1/temperature)),math.exp(-B*(1/temperature))],\n",
    "         [math.exp(B*(1/temperature)), math.exp(-6*J*(1/temperature)), math.exp(-2*J*(1/temperature)), math.exp(-B*(1/temperature))],\n",
    "         [math.exp(2*J*(1/temperature)),math.exp(-B*(1/temperature)),math.exp(-B*(1/temperature)),math.exp(-2*B*(1/temperature)+6*(1/temperature)*J)]])\n",
    "    \"\"\""
   ]
  },
  {
   "cell_type": "code",
   "execution_count": 16,
   "metadata": {},
   "outputs": [
    {
     "data": {
      "text/plain": [
       "[]"
      ]
     },
     "execution_count": 16,
     "metadata": {},
     "output_type": "execute_result"
    },
    {
     "data": {
      "image/png": "[encoded data removed]",
      "text/plain": [
       "<Figure size 432x288 with 1 Axes>"
      ]
     },
     "metadata": {
      "needs_background": "light"
     },
     "output_type": "display_data"
    }
   ],
   "source": [
    "plt.title(\"lamda vs t\")\n",
    "temperature = np.linspace(1,10,100)\n",
    "y=[ np.linalg.eigvalsh(twoD(i,1,0))[0] for i in temperature]\n",
    "plt.plot(temperature, y, label = \"1+\")\n",
    "y=[ np.linalg.eigvalsh(twoD(i,1,0))[1] for i in temperature]\n",
    "plt.plot(temperature, y, label = \"1-\")\n",
    "y=[ np.linalg.eigvalsh(twoD(i,1,0))[2] for i in temperature]\n",
    "plt.plot(temperature, y, label = \"2+\")\n",
    "y=[ np.linalg.eigvalsh(twoD(i,1,0))[3] for i in temperature]\n",
    "plt.plot(temperature, y, label = \"2-\")\n",
    "plt.xlabel(\"t\")\n",
    "plt.ylabel(\"lamda\")\n",
    "plt.legend\n",
    "plt.loglog()"
   ]
  },
  {
   "cell_type": "code",
   "execution_count": 18,
   "metadata": {},
   "outputs": [
    {
     "data": {
      "image/png": "[encoded data removed]",
      "text/plain": [
       "<Figure size 432x288 with 1 Axes>"
      ]
     },
     "metadata": {
      "needs_background": "light"
     },
     "output_type": "display_data"
    }
   ],
   "source": [
    "temperature = np.linspace(1,10,100)\n",
    "xi = [ np.linalg.eigvalsh(twoD(i,1,0))[0] for i in temperature]\n",
    "plt.plot(temperature, xi)\n",
    "xi = [ np.linalg.eigvalsh(twoD(i,1,0))[1] for i in temperature]\n",
    "plt.plot(temperature, xi)\n",
    "xi = [ np.linalg.eigvalsh(twoD(i,1,0))[2] for i in temperature]\n",
    "plt.plot(temperature, xi)\n",
    "xi = [ np.linalg.eigvalsh(twoD(i,1,0))[3] for i in temperature]\n",
    "plt.plot(temperature, xi)\n",
    "plt.yscale = \"log\"\n"
   ]
  },
  {
   "cell_type": "code",
   "execution_count": 33,
   "metadata": {},
   "outputs": [
    {
     "data": {
      "image/png": "[encoded data removed]",
      "text/plain": [
       "<Figure size 432x288 with 1 Axes>"
      ]
     },
     "metadata": {
      "needs_background": "light"
     },
     "output_type": "display_data"
    }
   ],
   "source": [
    "temperature = np.linspace(1,10,100)\n",
    "xi = [ 1/np.log(np.linalg.eigvalsh(twoD(i,1,0))[3]/np.linalg.eigvalsh(twoD(i,1,0))[2])/2 for i in temperature]\n",
    "plt.plot(temperature, xi, label = \"2\" )\n",
    "xi = [ 1/np.log(np.linalg.eigvalsh(T(i,1,0))[1]/np.linalg.eigvalsh(T(i,1,0))[0]) for i in temperature]\n",
    "plt.plot(temperature, xi, label = \"1\" )\n",
    "plt.xlim(2.2,2.4)\n",
    "plt.ylim(1,1.2)\n",
    "plt.legend()\n",
    "plt.grid()\n",
    "plt.show()"
   ]
  },
  {
   "cell_type": "code",
   "execution_count": 37,
   "metadata": {},
   "outputs": [],
   "source": [
    "t = 2\n",
    "J = 1\n",
    "beta = 1/t\n",
    "M = np.array([[np.sqrt(math.cosh(beta*J)), np.sqrt(math.sinh(beta*J))],\n",
    "                [np.sqrt(math.cosh(beta*J)),-np.sqrt(math.sinh(beta*J))]])"
   ]
  },
  {
   "cell_type": "code",
   "execution_count": 38,
   "metadata": {},
   "outputs": [],
   "source": [
    "T = np.zeros((2,2,2,2))\n",
    "\n",
    "for i in range(2):\n",
    "    for j in range(2):\n",
    "        for k in range(2):\n",
    "            for l in range(2):\n",
    "                T[i,j,k,l] = np.sum(M[:,i]*M[:,j]*M[:,k]*M[:,l])"
   ]
  },
  {
   "cell_type": "code",
   "execution_count": 39,
   "metadata": {},
   "outputs": [],
   "source": [
    "TT = np.tensordot(T,T,(1,3))\n",
    "TT = np.transpose(TT,(0,3,4,1,5,2))\n",
    "TT = TT.reshape((4,2,4,2))"
   ]
  },
  {
   "cell_type": "code",
   "execution_count": 30,
   "metadata": {},
   "outputs": [
    {
     "name": "stdout",
     "output_type": "stream",
     "text": [
      "(4, 2, 4, 2)\n"
     ]
    }
   ],
   "source": [
    "print(np.shape(TT))"
   ]
  },
  {
   "cell_type": "code",
   "execution_count": 40,
   "metadata": {},
   "outputs": [
    {
     "data": {
      "text/plain": [
       "(array([0.62044287, 0.86466472, 6.3890561 , 8.90394851]),\n",
       " array([[-0.35697752, -0.        ,  0.        , -0.93411298],\n",
       "        [ 0.        , -0.70710678, -0.70710678,  0.        ],\n",
       "        [ 0.        ,  0.70710678, -0.70710678,  0.        ],\n",
       "        [ 0.93411298,  0.        ,  0.        , -0.35697752]]))"
      ]
     },
     "execution_count": 40,
     "metadata": {},
     "output_type": "execute_result"
    }
   ],
   "source": [
    "np.linalg.eigh( np.trace(TT,axis1 = 1,axis2 =  3) )\n"
   ]
  },
  {
   "cell_type": "code",
   "execution_count": 6,
   "metadata": {},
   "outputs": [
    {
     "name": "stdout",
     "output_type": "stream",
     "text": [
      "U\n",
      " [[-0.40455358 -0.9145143 ]\n",
      " [-0.9145143   0.40455358]]\n",
      "S\n",
      " [5.4649857  0.36596619]\n",
      "VD\n",
      " [[-0.57604844 -0.81741556]\n",
      " [ 0.81741556 -0.57604844]]\n"
     ]
    }
   ],
   "source": [
    "M = np.array([[1,2],[3,4]])\n",
    "U, S, VD = np.linalg.svd(M)\n",
    "print(\"U\\n\",U)\n",
    "print(\"S\\n\",S)\n",
    "print(\"VD\\n\",VD)"
   ]
  },
  {
   "cell_type": "code",
   "execution_count": 8,
   "metadata": {},
   "outputs": [
    {
     "name": "stdout",
     "output_type": "stream",
     "text": [
      "[[1. 2.]\n",
      " [3. 4.]]\n"
     ]
    }
   ],
   "source": [
    "print(U @ np.diag(S) @VD)"
   ]
  },
  {
   "cell_type": "code",
   "execution_count": 11,
   "metadata": {},
   "outputs": [
    {
     "name": "stdout",
     "output_type": "stream",
     "text": [
      "[[ 1.00000000e+00 -4.65956839e-17]\n",
      " [-4.65956839e-17  1.00000000e+00]]\n",
      "[[ 1.00000000e+00 -9.58829555e-18]\n",
      " [-9.58829555e-18  1.00000000e+00]]\n"
     ]
    }
   ],
   "source": [
    "print(U.transpose() @ U)\n",
    "print(VD.transpose() @ VD)"
   ]
  },
  {
   "cell_type": "code",
   "execution_count": 16,
   "metadata": {},
   "outputs": [
    {
     "name": "stdout",
     "output_type": "stream",
     "text": [
      "U\n",
      " [[-0.15248323 -0.82264747]\n",
      " [-0.34991837 -0.42137529]\n",
      " [-0.54735351 -0.0201031 ]\n",
      " [-0.74478865  0.38116908]]\n",
      "S\n",
      " [14.2690955   0.62682823]\n",
      "VD\n",
      " [[-0.64142303 -0.7671874 ]\n",
      " [ 0.7671874  -0.64142303]]\n",
      "full\n",
      " [[1. 2.]\n",
      " [3. 4.]\n",
      " [5. 6.]\n",
      " [7. 8.]]\n"
     ]
    }
   ],
   "source": [
    "M = np.array([[1,2],[3,4],[5,6],[7,8]])\n",
    "U, S, VD = np.linalg.svd(M,full_matrices=False)\n",
    "print(\"U\\n\",U)\n",
    "print(\"S\\n\",S)\n",
    "print(\"VD\\n\",VD)\n",
    "print(\"full\\n\", U @ np.diag(S) @VD)"
   ]
  },
  {
   "cell_type": "code",
   "execution_count": 17,
   "metadata": {},
   "outputs": [
    {
     "name": "stdout",
     "output_type": "stream",
     "text": [
      "U\n",
      " [[-0.37616823  0.92655138]\n",
      " [-0.92655138 -0.37616823]]\n",
      "S\n",
      " [14.22740741  1.25732984]\n",
      "VD\n",
      " [[-0.35206169 -0.44362578 -0.53518987 -0.62675396]\n",
      " [-0.75898127 -0.3212416   0.11649807  0.55423774]]\n",
      "full\n",
      " [[1. 2. 3. 4.]\n",
      " [5. 6. 7. 8.]]\n"
     ]
    }
   ],
   "source": [
    "M = np.array([[1,2,3,4],[5,6,7,8]])\n",
    "U, S, VD = np.linalg.svd(M,full_matrices=False)\n",
    "print(\"U\\n\",U)\n",
    "print(\"S\\n\",S)\n",
    "print(\"VD\\n\",VD)\n",
    "print(\"full\\n\", U @ np.diag(S) @VD)"
   ]
  },
  {
   "cell_type": "code",
   "execution_count": 33,
   "metadata": {},
   "outputs": [
    {
     "name": "stdout",
     "output_type": "stream",
     "text": [
      "\n",
      "\n",
      "M\n",
      " [[0.08447891 0.69764616 0.36593067 0.0361618  0.30229431 0.71430562]\n",
      " [0.03492945 0.19631514 0.8555092  0.51798598 0.5874561  0.15424849]\n",
      " [0.38689077 0.1521745  0.24048364 0.4310933  0.73990771 0.40616323]\n",
      " [0.12885818 0.09956314 0.54300229 0.27892414 0.63950416 0.01409999]\n",
      " [0.87563782 0.87468036 0.67613601 0.29543117 0.39970214 0.39866748]\n",
      " [0.73450345 0.16570453 0.30972178 0.75391995 0.66904103 0.66147117]]\n",
      "S\n",
      " [2.66737222 0.96045928 0.79452391 0.57741993 0.29176524 0.03210491]\n",
      "Vd\n",
      " [[-0.395044   -0.34955144 -0.4494101  -0.36817938 -0.49649647 -0.37110617]\n",
      " [ 0.2370766   0.66807667 -0.15939085 -0.40978095 -0.44957681  0.3194105 ]\n",
      " [-0.53238374  0.32691597  0.67597428 -0.25813328 -0.00773795 -0.29335917]\n",
      " [-0.64518409 -0.02454429 -0.20828352 -0.04368732  0.23139257  0.69591806]\n",
      " [ 0.1027732   0.14527154 -0.3075029  -0.5583502   0.70299319 -0.26042549]\n",
      " [ 0.27834805 -0.55036993  0.42159676 -0.56234082 -0.05975045  0.34939114]]\n",
      "S_cut\n",
      " [2.66737222 0.96045928 0.79452391 0.57741993 0.29176524 0.        ]\n",
      "full\n",
      " [[0.08308694 0.70039847 0.36382233 0.03897398 0.30259311 0.71255837]\n",
      " [0.03775075 0.19073667 0.85978245 0.51228617 0.58685048 0.15778987]\n",
      " [0.39228966 0.14149942 0.24866101 0.42018603 0.73874878 0.41294009]\n",
      " [0.12332902 0.1104958  0.53462761 0.29009459 0.64069105 0.00715962]\n",
      " [0.87656567 0.87284574 0.67754138 0.29355665 0.39950297 0.39983215]\n",
      " [0.73144073 0.17176037 0.30508286 0.76010751 0.66969847 0.65762674]]\n",
      "max 0.010907269977697087\n"
     ]
    }
   ],
   "source": [
    "D = 6\n",
    "cut = 1\n",
    "M = np.random.rand(D,D)\n",
    "print(\"\\n\")\n",
    "U,S,Vd = np.linalg.svd(M,full_matrices=False)\n",
    "print(\"M\\n\", M)\n",
    "print(\"S\\n\", S)\n",
    "print(\"Vd\\n\", Vd)\n",
    "S_cut = S\n",
    "S_cut[len(S)-cut:len(S)] = 0\n",
    "print(\"S_cut\\n\", S_cut)\n",
    "M_cut = U @ np.diag(S_cut) @Vd\n",
    "print(\"full\\n\", U @ np.diag(S_cut) @Vd)\n",
    "print(\"max\", np.max(M - M_cut))"
   ]
  },
  {
   "cell_type": "code",
   "execution_count": 34,
   "metadata": {},
   "outputs": [
    {
     "name": "stdout",
     "output_type": "stream",
     "text": [
      "\n",
      "\n",
      "M\n",
      " [[0.04705837 0.27372458 0.20210953 0.43464975 0.12488718 0.72501719]\n",
      " [0.42189385 0.22419106 0.10082887 0.96882853 0.4133715  0.89765782]\n",
      " [0.63386133 0.51708846 0.49622997 0.84739056 0.60005722 0.45764661]\n",
      " [0.85518096 0.45449072 0.17096089 0.8285985  0.72071156 0.19942811]\n",
      " [0.6267179  0.78663967 0.55322528 0.59697643 0.83164921 0.233526  ]\n",
      " [0.4334788  0.12575096 0.23440611 0.64845604 0.85439574 0.00777394]]\n",
      "S\n",
      " [3.11752347 1.02196061 0.58289588 0.34345689 0.16142142 0.00342474]\n",
      "Vd\n",
      " [[-0.42496822 -0.32795414 -0.23781262 -0.57358229 -0.48156413 -0.30723377]\n",
      " [ 0.2688163   0.11587161  0.12194665 -0.22184725  0.41364425 -0.82408908]\n",
      " [-0.1620673   0.6873117   0.52813824 -0.41052824 -0.18571512  0.13922384]\n",
      " [ 0.67630352  0.29401688 -0.35802699 -0.00391617 -0.56775899 -0.07495795]\n",
      " [ 0.12799877 -0.37711438  0.69020614  0.33355274 -0.45064142 -0.22512538]\n",
      " [-0.49709543  0.42185459 -0.21231189  0.58479137 -0.19255223 -0.3883313 ]]\n",
      "S_cut\n",
      " [3.11752347 1.02196061 0.58289588 0.34345689 0.16142142]\n"
     ]
    },
    {
     "ename": "ValueError",
     "evalue": "matmul: Input operand 1 has a mismatch in its core dimension 0, with gufunc signature (n?,k),(k,m?)->(n?,m?) (size 5 is different from 6)",
     "output_type": "error",
     "traceback": [
      "\u001b[0;31m---------------------------------------------------------------------------\u001b[0m",
      "\u001b[0;31mValueError\u001b[0m                                Traceback (most recent call last)",
      "\u001b[0;32m<ipython-input-34-f2f6d3007515>\u001b[0m in \u001b[0;36m<module>\u001b[0;34m\u001b[0m\n\u001b[1;32m     10\u001b[0m \u001b[0mS_cut\u001b[0m\u001b[0;34m[\u001b[0m\u001b[0;34m:\u001b[0m\u001b[0;34m]\u001b[0m \u001b[0;34m=\u001b[0m \u001b[0mS\u001b[0m\u001b[0;34m[\u001b[0m\u001b[0;36m0\u001b[0m\u001b[0;34m:\u001b[0m\u001b[0mlen\u001b[0m\u001b[0;34m(\u001b[0m\u001b[0mS\u001b[0m\u001b[0;34m)\u001b[0m\u001b[0;34m-\u001b[0m\u001b[0mcut\u001b[0m\u001b[0;34m]\u001b[0m\u001b[0;34m\u001b[0m\u001b[0;34m\u001b[0m\u001b[0m\n\u001b[1;32m     11\u001b[0m \u001b[0mprint\u001b[0m\u001b[0;34m(\u001b[0m\u001b[0;34m\"S_cut\\n\"\u001b[0m\u001b[0;34m,\u001b[0m \u001b[0mS_cut\u001b[0m\u001b[0;34m)\u001b[0m\u001b[0;34m\u001b[0m\u001b[0;34m\u001b[0m\u001b[0m\n\u001b[0;32m---> 12\u001b[0;31m \u001b[0mM_cut\u001b[0m \u001b[0;34m=\u001b[0m \u001b[0mU\u001b[0m \u001b[0;34m@\u001b[0m \u001b[0mnp\u001b[0m\u001b[0;34m.\u001b[0m\u001b[0mdiag\u001b[0m\u001b[0;34m(\u001b[0m\u001b[0mS_cut\u001b[0m\u001b[0;34m)\u001b[0m \u001b[0;34m@\u001b[0m\u001b[0mVd\u001b[0m\u001b[0;34m\u001b[0m\u001b[0;34m\u001b[0m\u001b[0m\n\u001b[0m\u001b[1;32m     13\u001b[0m \u001b[0mprint\u001b[0m\u001b[0;34m(\u001b[0m\u001b[0;34m\"full\\n\"\u001b[0m\u001b[0;34m,\u001b[0m \u001b[0mU\u001b[0m \u001b[0;34m@\u001b[0m \u001b[0mnp\u001b[0m\u001b[0;34m.\u001b[0m\u001b[0mdiag\u001b[0m\u001b[0;34m(\u001b[0m\u001b[0mS_cut\u001b[0m\u001b[0;34m)\u001b[0m \u001b[0;34m@\u001b[0m\u001b[0mVd\u001b[0m\u001b[0;34m)\u001b[0m\u001b[0;34m\u001b[0m\u001b[0;34m\u001b[0m\u001b[0m\n\u001b[1;32m     14\u001b[0m \u001b[0mprint\u001b[0m\u001b[0;34m(\u001b[0m\u001b[0;34m\"max\"\u001b[0m\u001b[0;34m,\u001b[0m \u001b[0mnp\u001b[0m\u001b[0;34m.\u001b[0m\u001b[0mmax\u001b[0m\u001b[0;34m(\u001b[0m\u001b[0mM\u001b[0m \u001b[0;34m-\u001b[0m \u001b[0mM_cut\u001b[0m\u001b[0;34m)\u001b[0m\u001b[0;34m)\u001b[0m\u001b[0;34m\u001b[0m\u001b[0;34m\u001b[0m\u001b[0m\n",
      "\u001b[0;31mValueError\u001b[0m: matmul: Input operand 1 has a mismatch in its core dimension 0, with gufunc signature (n?,k),(k,m?)->(n?,m?) (size 5 is different from 6)"
     ]
    }
   ],
   "source": [
    "D = 6\n",
    "cut = 1\n",
    "M = np.random.rand(D,D)\n",
    "print(\"\\n\")\n",
    "U,S,Vd = np.linalg.svd(M,full_matrices=False)\n",
    "print(\"M\\n\", M)\n",
    "print(\"S\\n\", S)\n",
    "print(\"Vd\\n\", Vd)\n",
    "S_cut = np.zeros(len(S)-cut)\n",
    "S_cut[:] = S[0:len(S)-cut]\n",
    "S_cut = np.zeros(len(S)-cut)\n",
    "\n",
    "\n",
    "print(\"S_cut\\n\", S_cut)\n",
    "M_cut = U @ np.diag(S_cut) @Vd\n",
    "print(\"full\\n\", U @ np.diag(S_cut) @Vd)\n",
    "print(\"max\", np.max(M - M_cut))"
   ]
  },
  {
   "cell_type": "code",
   "execution_count": null,
   "metadata": {},
   "outputs": [],
   "source": []
  }
 ],
 "metadata": {
  "interpreter": {
   "hash": "224713fa5df5479744c4ffa78a24289bd058189636cbe307ab5ab559d78c6ae6"
  },
  "kernelspec": {
   "display_name": "Python 3.8.8 ('base': conda)",
   "language": "python",
   "name": "python3"
  },
  "language_info": {
   "codemirror_mode": {
    "name": "ipython",
    "version": 3
   },
   "file_extension": ".py",
   "mimetype": "text/x-python",
   "name": "python",
   "nbconvert_exporter": "python",
   "pygments_lexer": "ipython3",
   "version": "3.8.8"
  },
  "orig_nbformat": 4
 },
 "nbformat": 4,
 "nbformat_minor": 2
}
